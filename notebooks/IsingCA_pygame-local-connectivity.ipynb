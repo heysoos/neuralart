{
 "cells": [
  {
   "cell_type": "code",
   "execution_count": 1,
   "id": "practical-estonia",
   "metadata": {},
   "outputs": [
    {
     "name": "stderr",
     "output_type": "stream",
     "text": [
      "C:\\Users\\Heysoos\\anaconda3\\envs\\torchstuff\\lib\\site-packages\\tqdm\\auto.py:22: TqdmWarning: IProgress not found. Please update jupyter and ipywidgets. See https://ipywidgets.readthedocs.io/en/stable/user_install.html\n",
      "  from .autonotebook import tqdm as notebook_tqdm\n"
     ]
    },
    {
     "name": "stdout",
     "output_type": "stream",
     "text": [
      "pygame 2.1.2 (SDL 2.0.18, Python 3.9.15)\n",
      "Hello from the pygame community. https://www.pygame.org/contribute.html\n"
     ]
    }
   ],
   "source": [
    "import numpy as np\n",
    "import matplotlib.pyplot as plt\n",
    "\n",
    "import torch\n",
    "import torch.nn.functional as F\n",
    "\n",
    "import cv2\n",
    "import time\n",
    "\n",
    "from isingCA_local_connectivity import isingCA\n",
    "import pygame"
   ]
  },
  {
   "cell_type": "code",
   "execution_count": 2,
   "id": "adapted-session",
   "metadata": {},
   "outputs": [],
   "source": [
    "from itertools import product\n",
    "\n",
    "# toggle the brush between two modes (shortcut B)\n",
    "BRUSH_TOGGLE = False\n",
    "\n",
    "def LMB_make(state, r=5, s=1):\n",
    "    '''\n",
    "    left click to make\n",
    "    r: radius of brush\n",
    "    s: smoothing / sigma\n",
    "    '''\n",
    "    xcl, ycl = pygame.mouse.get_pos()\n",
    "    xcl, ycl = int(xcl/UPSCALE), int(ycl/UPSCALE)\n",
    "    \n",
    "     # radial blur\n",
    "    xm, ym = torch.meshgrid(torch.linspace(-1, 1, 2*r), torch.linspace(-1, 1, 2*r))\n",
    "    rm = torch.sqrt(xm**2 + ym**2).type(torch.double)\n",
    "    blur = torch.exp(-rm**2 / s**2)\n",
    "    blur = torch.where(rm <= 1., blur, 0.) # circular mask\n",
    "    \n",
    "    # doesn't do periodic boundaries\n",
    "    # state[:, 1, xcl - r:xcl + r, ycl - r : ycl + r] -= (blur.cuda() + 1e-6) \n",
    "    \n",
    "    range_x = range(xcl - r, xcl + r)\n",
    "    range_y = range(ycl - r, ycl + r)\n",
    "    coords = list(product(range_x, range_y))\n",
    "    idx_i = [c[0] % RESX for c in coords]\n",
    "    idx_j = [c[1] % RESY for c in coords]\n",
    "    \n",
    "    if BRUSH_TOGGLE:\n",
    "        state[:, 1, idx_i, idx_j] -= (blur.reshape(-1).cuda() + 1e-6) # change temp\n",
    "    else:\n",
    "        state[:, 0, idx_i, idx_j] = torch.where(rm.reshape(-1).cuda() <= 1.,\n",
    "                                                1.,\n",
    "                                                state[:, 0, idx_i, idx_j]\n",
    "                                               )\n",
    "    \n",
    "    state[0, 1] = torch.clip(state[0, 1], 1e-6)\n",
    "\n",
    "    return state\n",
    "    \n",
    "    \n",
    "def RMB_del(state, r=5, s=1):\n",
    "    '''\n",
    "    right click to erase\n",
    "    r: radius of eraser\n",
    "    s: smoothing / sigma\n",
    "    '''\n",
    "    xcl, ycl = pygame.mouse.get_pos()\n",
    "    xcl, ycl = int(xcl/UPSCALE), int(ycl/UPSCALE)\n",
    "    \n",
    "    # radial blur\n",
    "    xm, ym = torch.meshgrid(torch.linspace(-1, 1, 2*r), torch.linspace(-1, 1, 2*r))\n",
    "    rm = torch.sqrt(xm**2 + ym**2).type(torch.double)\n",
    "    blur = torch.exp(-rm**2 / s**2)\n",
    "    blur = torch.where(rm <= 1., blur, 0.) # circular mask\n",
    "    \n",
    "    range_x = range(xcl - r, xcl + r)\n",
    "    range_y = range(ycl - r, ycl + r)\n",
    "    coords = list(product(range_x, range_y))\n",
    "    idx_i = [c[0] % RESX for c in coords]\n",
    "    idx_j = [c[1] % RESY for c in coords]\n",
    "    if BRUSH_TOGGLE:\n",
    "        state[:, 1, idx_i, idx_j] += blur.reshape(-1).cuda()\n",
    "    else:\n",
    "        state[:, 0, idx_i, idx_j] = torch.where(rm.reshape(-1).cuda() <= 1.,\n",
    "                                                -1.,\n",
    "                                                state[:, 0, idx_i, idx_j]\n",
    "                                               )\n",
    "    \n",
    "    return state\n",
    "\n",
    "def WHEEL_permute(cdim_order, direction):\n",
    "    cdim_order = np.mod(np.add(cdim_order, direction), state.shape[1])\n",
    "    \n",
    "    return cdim_order\n",
    "    \n",
    "def WHEEL_beta(beta, direction):\n",
    "    \n",
    "    return beta + direction * 0.01\n",
    "\n",
    "def min_max(x):\n",
    "    return (x - x.min()) / (x.max() - x.min())"
   ]
  },
  {
   "cell_type": "code",
   "execution_count": 3,
   "id": "leading-desperate",
   "metadata": {},
   "outputs": [],
   "source": [
    "def print_something(something):\n",
    "    fps = f'{something:.3f}'\n",
    "    fps_text = font.render(fps, 1, pygame.Color(\"white\"))\n",
    "    fps_bg = pygame.Surface((fps_text.get_height(),fps_text.get_width()))  # the size of your rect\n",
    "    fps_bg.set_alpha(50)                # alpha level\n",
    "    fps_bg.fill((255,255,255))           # this fills the entire surface\n",
    "\n",
    "    fps_surf = pygame.Surface((fps_bg.get_height(), fps_bg.get_width()))\n",
    "    fps_surf.blit(fps_bg, (0, 0))\n",
    "    fps_surf.blit(fps_text, (0, 0))\n",
    "    return fps_surf"
   ]
  },
  {
   "cell_type": "markdown",
   "id": "exact-irish",
   "metadata": {
    "tags": []
   },
   "source": [
    "# Test"
   ]
  },
  {
   "cell_type": "code",
   "execution_count": 4,
   "id": "saved-bolivia",
   "metadata": {
    "tags": []
   },
   "outputs": [],
   "source": [
    "RADIUS=5\n",
    "BETA=1. / (RADIUS*RADIUS)\n",
    "RES = (640, 640)\n",
    "ca = isingCA(RES, BETA=BETA, RADIUS=RADIUS).cuda() "
   ]
  },
  {
   "cell_type": "code",
   "execution_count": 5,
   "id": "automatic-wonder",
   "metadata": {
    "scrolled": false,
    "tags": []
   },
   "outputs": [],
   "source": [
    "# resolution of grid\n",
    "RESX=RES[0]\n",
    "RESY=RES[1]\n",
    "state = ca.initGrid((RESX, RESY))\n",
    "# brush properties\n",
    "r = RESX//50\n",
    "s = 0.1\n",
    "\n",
    "# pygame stuff\n",
    "######################################\n",
    "pygame.init()\n",
    "size = RESX, RESY\n",
    "# screen = pygame.display.set_mode(size)\n",
    "screen = pygame.Surface(size)\n",
    "UPSCALE = 1\n",
    "\n",
    "RESXup, RESYup = int(RESX*UPSCALE), int(RESY*UPSCALE)\n",
    "upscaled_screen = pygame.display.set_mode([RESXup, RESYup])\n",
    "\n",
    "running = True\n",
    "time_ticking = True\n",
    "self_organize = False\n",
    "LMB_trigger = False\n",
    "RMB_trigger = False\n",
    "WHEEL_trigger = False\n",
    "cdim_order = np.arange(0, state.shape[1])\n",
    "beta = BETA\n",
    "\n",
    "clock = pygame.time.Clock()\n",
    "font = pygame.font.SysFont(\"Noto Sans\", 12)\n",
    "def update_fps(clock, font):\n",
    "    fps = str(int(clock.get_fps()))\n",
    "    fps_text = font.render(fps, 1, pygame.Color(\"white\"))\n",
    "    fps_bg = pygame.Surface((fps_text.get_height(),fps_text.get_width()))  # the size of your rect\n",
    "    fps_bg.set_alpha(50)                # alpha level\n",
    "    fps_bg.fill((255,255,255))           # this fills the entire surface\n",
    "\n",
    "    fps_surf = pygame.Surface((fps_bg.get_height(), fps_bg.get_width()))\n",
    "    fps_surf.blit(fps_bg, (0, 0))\n",
    "    fps_surf.blit(fps_text, (0, 0))\n",
    "    return fps_surf\n",
    "######################################\n",
    "\n",
    "# CENTER SEED\n",
    "# seed = torch.cuda.FloatTensor(np.zeros((CHANNELS, RESX, RESY))).unsqueeze(0)\n",
    "# seed[:, 3:, RESX//2, RESY//2] = 1\n",
    "# state = seed.clone()\n",
    "\n",
    "\n",
    "\n",
    "# inject noise\n",
    "signal_injection = torch.zeros(size=state.shape)\n",
    "noise_amp = 1.\n",
    "noise_idx = slice(4, 10)\n",
    "\n",
    "update_rate = 1.\n",
    "ticker = 0.\n",
    "sink = False\n",
    "export_imgs = False\n",
    "imgs = []\n",
    "\n",
    "# stats to save\n",
    "temps = []\n",
    "mag = []\n",
    "\n",
    "with torch.no_grad():\n",
    "    while running:              \n",
    "        for event in pygame.event.get():\n",
    "            if event.type == pygame.QUIT:\n",
    "                running = False\n",
    "                \n",
    "            if event.type == pygame.MOUSEBUTTONDOWN:\n",
    "                if event.button == 1:\n",
    "                    LMB_trigger = True\n",
    "                if event.button == 3:\n",
    "                    RMB_trigger = True\n",
    "            if event.type == pygame.MOUSEBUTTONUP:\n",
    "                if event.button == 1:\n",
    "                    LMB_trigger = False\n",
    "                if event.button == 3:\n",
    "                    RMB_trigger = False\n",
    "                    \n",
    "            if event.type == pygame.MOUSEWHEEL:\n",
    "                WHEEL_trigger = True\n",
    "                direction = event.y\n",
    "                \n",
    "            if event.type == pygame.KEYDOWN and event.key == pygame.K_LEFTBRACKET:\n",
    "                update_rate += -0.5\n",
    "            if event.type== pygame.KEYDOWN and event.key == pygame.K_RIGHTBRACKET:\n",
    "                update_rate += 0.5\n",
    "            \n",
    "            if event.type == pygame.MOUSEBUTTONUP and event.button == 2:\n",
    "                # scroll through channel dims\n",
    "                cdim_order = np.arange(0, state.shape[1])\n",
    "                    \n",
    "            if event.type == pygame.KEYDOWN and event.key == pygame.K_o:\n",
    "                ca.rule.J_adapt = not ca.rule.J_adapt\n",
    "        \n",
    "            if event.type == pygame.KEYDOWN and event.key == pygame.K_e:\n",
    "                export_imgs = not export_imgs\n",
    "            if event.type == pygame.KEYDOWN and event.key == pygame.K_p:\n",
    "                # pause/toggle time\n",
    "                time_ticking = not time_ticking\n",
    "                \n",
    "            if event.type== pygame.KEYDOWN and event.key == pygame.K_r:\n",
    "                # start from seed \n",
    "                state = ca.initGrid((RESX, RESY))\n",
    "            if event.type == pygame.KEYDOWN and event.key == pygame.K_b:\n",
    "                BRUSH_TOGGLE = not BRUSH_TOGGLE\n",
    "                \n",
    "            if event.type == pygame.KEYDOWN and event.key == pygame.K_9:\n",
    "                ca.rule.adapt_lr /= 2.\n",
    "                print(f'lr: {ca.rule.adapt_lr :.4f}')\n",
    "            if event.type == pygame.KEYDOWN and event.key == pygame.K_0:\n",
    "                ca.rule.adapt_lr *= 2.\n",
    "                print(f'lr: {ca.rule.adapt_lr :.4f}')\n",
    "\n",
    "        mouse_pos = pygame.mouse.get_pos()\n",
    "        if LMB_trigger:\n",
    "            state = LMB_make(state, r=r, s=s)\n",
    "        if RMB_trigger:\n",
    "            state = RMB_del(state, r=r, s=s)\n",
    "        \n",
    "        \n",
    "        if WHEEL_trigger:\n",
    "#             ca.rule.beta = WHEEL_beta(ca.rule.beta, direction)\n",
    "            cdim_order = WHEEL_permute(cdim_order, direction)\n",
    "            WHEEL_trigger = False\n",
    "        \n",
    "        nx = min_max(state[0, cdim_order[0], :, :].cpu().numpy()) * 255.\n",
    "        nx = np.stack([0 *nx, 154/255*nx, 211/255*nx]).transpose(1, 2, 0)\n",
    "\n",
    "        if time_ticking:\n",
    "            state = ca.forward(state)\n",
    "            ticker += 1\n",
    "\n",
    "\n",
    "        if export_imgs and time_ticking:\n",
    "            imgs.append(nx)\n",
    "            \n",
    "        mat_draw = min_max(ca.rule.nearest_neighbours[0, :, RESX*RESY // 2 + RESY].reshape(2*RADIUS + 1,2*RADIUS + 1).detach()).cpu().numpy()\n",
    "        connectivity_mat = pygame.transform.scale(pygame.surfarray.make_surface(mat_draw*255), (50, 50))\n",
    "        \n",
    "        pygame.surfarray.blit_array(screen, nx)   \n",
    "        screen.blit(connectivity_mat, (RESX - 50,0))\n",
    "        \n",
    "        frame = pygame.transform.scale(screen, (RESXup, RESYup))\n",
    "        upscaled_screen.blit(frame, frame.get_rect())\n",
    "        upscaled_screen.blit(update_fps(clock, font), (10,0))\n",
    "        \n",
    "        magnetization = state[0, 0].mean().cpu().numpy()\n",
    "        connectivity = ca.rule.nearest_neighbours.sum(dim=1).mean().cpu().numpy()\n",
    "        upscaled_screen.blit(print_something(magnetization), (10,20))\n",
    "        upscaled_screen.blit(print_something(connectivity), (10,20))\n",
    "        pygame.display.flip()\n",
    "        clock.tick(240)\n",
    "        \n",
    "pygame.quit()\n"
   ]
  },
  {
   "cell_type": "code",
   "execution_count": 6,
   "id": "ee5dbfa6",
   "metadata": {},
   "outputs": [
    {
     "data": {
      "image/png": "[encoded data removed]",
      "text/plain": [
       "<Figure size 640x480 with 1 Axes>"
      ]
     },
     "metadata": {},
     "output_type": "display_data"
    }
   ],
   "source": [
    "plt.hist(ca.rule.nearest_neighbours.reshape(-1).cpu().numpy(), 1000); plt.yscale('log'); plt.xscale('log')"
   ]
  },
  {
   "cell_type": "code",
   "execution_count": 7,
   "id": "1b178dc8",
   "metadata": {},
   "outputs": [
    {
     "ename": "RuntimeError",
     "evalue": "shape '[1, 9, 640, 640]' is invalid for input of size 49561600",
     "output_type": "error",
     "traceback": [
      "\u001b[1;31m---------------------------------------------------------------------------\u001b[0m",
      "\u001b[1;31mRuntimeError\u001b[0m                              Traceback (most recent call last)",
      "Cell \u001b[1;32mIn [7], line 1\u001b[0m\n\u001b[1;32m----> 1\u001b[0m plot1 \u001b[38;5;241m=\u001b[39m \u001b[43mca\u001b[49m\u001b[38;5;241;43m.\u001b[39;49m\u001b[43mrule\u001b[49m\u001b[38;5;241;43m.\u001b[39;49m\u001b[43mnearest_neighbours\u001b[49m\u001b[38;5;241;43m.\u001b[39;49m\u001b[43mreshape\u001b[49m\u001b[43m(\u001b[49m\u001b[38;5;241;43m1\u001b[39;49m\u001b[43m,\u001b[49m\u001b[43m \u001b[49m\u001b[38;5;241;43m9\u001b[39;49m\u001b[43m,\u001b[49m\u001b[43m \u001b[49m\u001b[43mRESX\u001b[49m\u001b[43m,\u001b[49m\u001b[43m \u001b[49m\u001b[43mRESY\u001b[49m\u001b[43m)\u001b[49m\u001b[38;5;241m.\u001b[39msum(dim\u001b[38;5;241m=\u001b[39m\u001b[38;5;241m1\u001b[39m)\u001b[38;5;241m.\u001b[39mcpu()\u001b[38;5;241m.\u001b[39mnumpy()[\u001b[38;5;241m0\u001b[39m]\n\u001b[0;32m      2\u001b[0m vmax\u001b[38;5;241m=\u001b[39mnp\u001b[38;5;241m.\u001b[39mmedian(plot1) \u001b[38;5;241m+\u001b[39m np\u001b[38;5;241m.\u001b[39mstd(plot1)\n\u001b[0;32m      3\u001b[0m plt\u001b[38;5;241m.\u001b[39mimshow(plot1, vmax\u001b[38;5;241m=\u001b[39mvmax); plt\u001b[38;5;241m.\u001b[39mcolorbar()\n",
      "\u001b[1;31mRuntimeError\u001b[0m: shape '[1, 9, 640, 640]' is invalid for input of size 49561600"
     ]
    }
   ],
   "source": [
    "plot1 = ca.rule.nearest_neighbours.reshape(1, 9, RESX, RESY).sum(dim=1).cpu().numpy()[0]\n",
    "vmax=np.median(plot1) + np.std(plot1)\n",
    "plt.imshow(plot1, vmax=vmax); plt.colorbar()"
   ]
  },
  {
   "cell_type": "code",
   "execution_count": null,
   "id": "6308009e",
   "metadata": {},
   "outputs": [],
   "source": [
    "plot2 = F.fold(ca.rule.nearest_neighbours, output_size=(RESX+2*RADIUS, RESY+2*RADIUS), kernel_size=(2*RADIUS + 1))[0, 0].cpu().numpy()\n",
    "\n",
    "vmax=np.median(plot2) + np.std(plot2)\n",
    "plt.imshow(plot2, vmax=vmax); plt.colorbar()"
   ]
  },
  {
   "cell_type": "code",
   "execution_count": null,
   "id": "17d0b461",
   "metadata": {},
   "outputs": [],
   "source": [
    "state[:, [0], ...].shape"
   ]
  },
  {
   "cell_type": "code",
   "execution_count": null,
   "id": "913ab81b",
   "metadata": {},
   "outputs": [],
   "source": [
    "ca.rule.nearest_neighbours.median()"
   ]
  },
  {
   "cell_type": "code",
   "execution_count": null,
   "id": "895ae71e",
   "metadata": {},
   "outputs": [],
   "source": [
    "-(self.eps * self.nearest_neighbours * m ** 2)[0, :, 0].reshape(3, 3)"
   ]
  },
  {
   "cell_type": "code",
   "execution_count": null,
   "id": "6a174cb5",
   "metadata": {},
   "outputs": [],
   "source": [
    "dJ_hebb[0, :, 0].reshape(3, 3)"
   ]
  },
  {
   "cell_type": "code",
   "execution_count": null,
   "id": "4a10b791",
   "metadata": {},
   "outputs": [],
   "source": [
    "new_J = new_J * (self.max_weight / new_J.abs().sum(dim=1, keepdim=True))"
   ]
  },
  {
   "cell_type": "code",
   "execution_count": null,
   "id": "e709f99a",
   "metadata": {},
   "outputs": [],
   "source": [
    "new_J[0, :, 0].reshape(3, 3)"
   ]
  },
  {
   "cell_type": "code",
   "execution_count": null,
   "id": "75efb6c5",
   "metadata": {},
   "outputs": [],
   "source": [
    "new_J[0, :, 0].reshape(3, 3)"
   ]
  },
  {
   "cell_type": "code",
   "execution_count": null,
   "id": "cd724bff",
   "metadata": {},
   "outputs": [],
   "source": [
    "ca.rule.nearest_neighbours[0, :, 0].reshape(3, 3)"
   ]
  }
 ],
 "metadata": {
  "kernelspec": {
   "display_name": "Python 3 (ipykernel)",
   "language": "python",
   "name": "python3"
  },
  "language_info": {
   "codemirror_mode": {
    "name": "ipython",
    "version": 3
   },
   "file_extension": ".py",
   "mimetype": "text/x-python",
   "name": "python",
   "nbconvert_exporter": "python",
   "pygments_lexer": "ipython3",
   "version": "3.9.15"
  }
 },
 "nbformat": 4,
 "nbformat_minor": 5
}

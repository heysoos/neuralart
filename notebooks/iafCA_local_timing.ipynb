{
 "cells": [
  {
   "cell_type": "code",
   "execution_count": 1,
   "id": "practical-estonia",
   "metadata": {
    "pycharm": {
     "is_executing": true
    },
    "scrolled": true
   },
   "outputs": [
    {
     "name": "stderr",
     "output_type": "stream",
     "text": [
      "C:\\Users\\Heysoos\\anaconda3\\envs\\torchstuff\\lib\\site-packages\\tqdm\\auto.py:22: TqdmWarning: IProgress not found. Please update jupyter and ipywidgets. See https://ipywidgets.readthedocs.io/en/stable/user_install.html\n",
      "  from .autonotebook import tqdm as notebook_tqdm\n"
     ]
    }
   ],
   "source": [
    "import numpy as np\n",
    "import matplotlib.pyplot as plt\n",
    "\n",
    "import torch\n",
    "\n",
    "from tqdm import tqdm\n",
    "import time\n"
   ]
  },
  {
   "cell_type": "markdown",
   "id": "01035c98",
   "metadata": {},
   "source": [
    "## LIF"
   ]
  },
  {
   "cell_type": "code",
   "execution_count": 7,
   "id": "273bcfcb",
   "metadata": {
    "tags": []
   },
   "outputs": [],
   "source": [
    "from iafCA import iafCA\n",
    "\n",
    "RADIUS=10\n",
    "def init_model(res, plasticity=False, lr=5e-2):\n",
    "    ca = iafCA(RADIUS=RADIUS).cuda() \n",
    "    return (ca, ca.initGrid((res, res)))"
   ]
  },
  {
   "cell_type": "code",
   "execution_count": 8,
   "id": "d5a1ccea",
   "metadata": {
    "scrolled": false
   },
   "outputs": [
    {
     "name": "stdout",
     "output_type": "stream",
     "text": [
      "[45, 64, 90, 128, 181, 256, 362, 512, 724, 1024, 1448, 2048, 2896, 4096, 5792]\n"
     ]
    },
    {
     "name": "stderr",
     "output_type": "stream",
     "text": [
      "\r",
      "  0%|          | 0/15 [00:00<?, ?it/s]"
     ]
    },
    {
     "name": "stdout",
     "output_type": "stream",
     "text": [
      "Starting model with 2025 elements.\n"
     ]
    },
    {
     "name": "stderr",
     "output_type": "stream",
     "text": [
      "\r",
      "  7%|▋         | 1/15 [00:01<00:27,  1.96s/it]"
     ]
    },
    {
     "name": "stdout",
     "output_type": "stream",
     "text": [
      "Starting model with 4096 elements.\n"
     ]
    },
    {
     "name": "stderr",
     "output_type": "stream",
     "text": [
      "\r",
      " 13%|█▎        | 2/15 [00:03<00:21,  1.63s/it]"
     ]
    },
    {
     "name": "stdout",
     "output_type": "stream",
     "text": [
      "Starting model with 8100 elements.\n"
     ]
    },
    {
     "name": "stderr",
     "output_type": "stream",
     "text": [
      "\r",
      " 20%|██        | 3/15 [00:04<00:17,  1.48s/it]"
     ]
    },
    {
     "name": "stdout",
     "output_type": "stream",
     "text": [
      "Starting model with 16384 elements.\n"
     ]
    },
    {
     "name": "stderr",
     "output_type": "stream",
     "text": [
      "\r",
      " 27%|██▋       | 4/15 [00:05<00:15,  1.42s/it]"
     ]
    },
    {
     "name": "stdout",
     "output_type": "stream",
     "text": [
      "Starting model with 32761 elements.\n"
     ]
    },
    {
     "name": "stderr",
     "output_type": "stream",
     "text": [
      "\r",
      " 33%|███▎      | 5/15 [00:07<00:14,  1.42s/it]"
     ]
    },
    {
     "name": "stdout",
     "output_type": "stream",
     "text": [
      "Starting model with 65536 elements.\n"
     ]
    },
    {
     "name": "stderr",
     "output_type": "stream",
     "text": [
      "\r",
      " 40%|████      | 6/15 [00:08<00:12,  1.39s/it]"
     ]
    },
    {
     "name": "stdout",
     "output_type": "stream",
     "text": [
      "Starting model with 131044 elements.\n"
     ]
    },
    {
     "name": "stderr",
     "output_type": "stream",
     "text": [
      "\r",
      " 47%|████▋     | 7/15 [00:10<00:11,  1.43s/it]"
     ]
    },
    {
     "name": "stdout",
     "output_type": "stream",
     "text": [
      "Starting model with 262144 elements.\n"
     ]
    },
    {
     "name": "stderr",
     "output_type": "stream",
     "text": [
      " 47%|████▋     | 7/15 [00:11<00:13,  1.68s/it]\n"
     ]
    },
    {
     "ename": "KeyboardInterrupt",
     "evalue": "",
     "output_type": "error",
     "traceback": [
      "\u001b[1;31m---------------------------------------------------------------------------\u001b[0m",
      "\u001b[1;31mKeyboardInterrupt\u001b[0m                         Traceback (most recent call last)",
      "Cell \u001b[1;32mIn [8], line 13\u001b[0m\n\u001b[0;32m     11\u001b[0m     t_start \u001b[38;5;241m=\u001b[39m time\u001b[38;5;241m.\u001b[39mtime()\n\u001b[0;32m     12\u001b[0m     \u001b[38;5;28;01mfor\u001b[39;00m i \u001b[38;5;129;01min\u001b[39;00m \u001b[38;5;28mrange\u001b[39m(\u001b[38;5;241m1000\u001b[39m):\n\u001b[1;32m---> 13\u001b[0m         state \u001b[38;5;241m=\u001b[39m \u001b[43mmodel\u001b[49m\u001b[38;5;241;43m.\u001b[39;49m\u001b[43mforward\u001b[49m\u001b[43m(\u001b[49m\u001b[43mstate\u001b[49m\u001b[43m)\u001b[49m\n\u001b[0;32m     14\u001b[0m     t_end \u001b[38;5;241m=\u001b[39m time\u001b[38;5;241m.\u001b[39mtime()\n\u001b[0;32m     16\u001b[0m elapsed_time \u001b[38;5;241m=\u001b[39m t_end \u001b[38;5;241m-\u001b[39m t_start\n",
      "File \u001b[1;32m~\\Documents\\Pycharm Projects\\neuralart\\notebooks\\iafCA.py:140\u001b[0m, in \u001b[0;36miafCA.forward\u001b[1;34m(self, x)\u001b[0m\n\u001b[0;32m    138\u001b[0m \u001b[38;5;28;01mdef\u001b[39;00m \u001b[38;5;21mforward\u001b[39m(\u001b[38;5;28mself\u001b[39m, x):\n\u001b[0;32m    139\u001b[0m     \u001b[38;5;66;03m# noise_input = (torch.rand_like(x[:, [1], ...]) > 0.9) * (self.rm > 0.5) * (self.rm - self.rm.mean())\u001b[39;00m\n\u001b[1;32m--> 140\u001b[0m     noise_input \u001b[38;5;241m=\u001b[39m (torch\u001b[38;5;241m.\u001b[39mrandn_like(\u001b[43mx\u001b[49m\u001b[43m[\u001b[49m\u001b[43m:\u001b[49m\u001b[43m,\u001b[49m\u001b[43m \u001b[49m\u001b[43m[\u001b[49m\u001b[38;5;241;43m1\u001b[39;49m\u001b[43m]\u001b[49m\u001b[43m,\u001b[49m\u001b[43m \u001b[49m\u001b[38;5;241;43m.\u001b[39;49m\u001b[38;5;241;43m.\u001b[39;49m\u001b[38;5;241;43m.\u001b[39;49m\u001b[43m]\u001b[49m) \u001b[38;5;241m>\u001b[39m \u001b[38;5;241m0.99\u001b[39m) \u001b[38;5;241m*\u001b[39m \u001b[38;5;241m1.\u001b[39m\n\u001b[0;32m    141\u001b[0m     \u001b[38;5;66;03m# noise_input = 0.\u001b[39;00m\n\u001b[0;32m    142\u001b[0m     \u001b[38;5;28;01mreturn\u001b[39;00m \u001b[38;5;28mself\u001b[39m\u001b[38;5;241m.\u001b[39mrule(x, noise_input)\n",
      "\u001b[1;31mKeyboardInterrupt\u001b[0m: "
     ]
    }
   ],
   "source": [
    "sizes = [int(np.sqrt(i)) for i in 2 ** np.arange(11, 26)]\n",
    "print(sizes)\n",
    "\n",
    "res = []\n",
    "for RES in tqdm(sizes):\n",
    "    with torch.no_grad():\n",
    "        model, state = init_model(RES) \n",
    "        state = model.forward(state)\n",
    "        print(f'Starting model with {state[0, 0].numel()} elements.')\n",
    "\n",
    "        t_start = time.time()\n",
    "        for i in range(1000):\n",
    "            state = model.forward(state)\n",
    "        t_end = time.time()\n",
    "    \n",
    "    elapsed_time = t_end - t_start\n",
    "    print(f'Time elapsed: {elapsed_time:.2f}')\n",
    "    res.append(elapsed_time)"
   ]
  },
  {
   "cell_type": "code",
   "execution_count": 13,
   "id": "ed221d46",
   "metadata": {},
   "outputs": [
    {
     "data": {
      "text/plain": [
       "Text(0.5, 1.0, 'No plasticity')"
      ]
     },
     "execution_count": 13,
     "metadata": {},
     "output_type": "execute_result"
    },
    {
     "data": {
      "image/png": "[encoded data removed]",
      "text/plain": [
       "<Figure size 640x480 with 1 Axes>"
      ]
     },
     "metadata": {},
     "output_type": "display_data"
    }
   ],
   "source": [
    "plt.plot([s*s for s in sizes[:len(res)]], res, '-o', lw=5, ms=10)\n",
    "plt.xscale('log')\n",
    "# plt.xticks([5000, 10000, 100000, 200000])\n",
    "plt.yscale('log')\n",
    "plt.xlabel('# of pixels')\n",
    "plt.ylabel('wall time (s)')\n",
    "plt.title('No plasticity')"
   ]
  },
  {
   "cell_type": "code",
   "execution_count": 15,
   "id": "b7c4c10e",
   "metadata": {},
   "outputs": [],
   "source": [
    "data = np.array([ [sizes[i], res[i]] for i in range(len(res)) ])\n",
    "np.save('iafCA_times.npy', data)"
   ]
  },
  {
   "cell_type": "markdown",
   "id": "afa81765",
   "metadata": {},
   "source": [
    "## LIF with local plasticity"
   ]
  },
  {
   "cell_type": "markdown",
   "id": "fb650b5d",
   "metadata": {},
   "source": [
    "------"
   ]
  },
  {
   "cell_type": "code",
   "execution_count": 2,
   "id": "saved-bolivia",
   "metadata": {
    "tags": []
   },
   "outputs": [],
   "source": [
    "from iafCA_local import iafCA_local\n",
    "\n",
    "RADIUS=10\n",
    "def init_plastic_model(res, plasticity=True, lr=5e-2):\n",
    "    ca = iafCA_local(RES=(res, res), RADIUS=RADIUS).cuda() \n",
    "    ca.rule.plasticity = plasticity\n",
    "    ca.rule.plastic_lr = lr\n",
    "    \n",
    "    return (ca, ca.initGrid())"
   ]
  },
  {
   "cell_type": "code",
   "execution_count": null,
   "id": "72d729b9",
   "metadata": {
    "scrolled": false
   },
   "outputs": [
    {
     "name": "stdout",
     "output_type": "stream",
     "text": [
      "[45, 64, 90, 128, 181, 256, 362, 512, 724, 1024, 1448]\n"
     ]
    },
    {
     "name": "stderr",
     "output_type": "stream",
     "text": [
      "  0%|          | 0/11 [00:00<?, ?it/s]C:\\Users\\Heysoos\\anaconda3\\envs\\torchstuff\\lib\\site-packages\\torch\\functional.py:504: UserWarning: torch.meshgrid: in an upcoming release, it will be required to pass the indexing argument. (Triggered internally at C:\\cb\\pytorch_1000000000000\\work\\aten\\src\\ATen\\native\\TensorShape.cpp:3191.)\n",
      "  return _VF.meshgrid(tensors, **kwargs)  # type: ignore[attr-defined]\n"
     ]
    },
    {
     "name": "stdout",
     "output_type": "stream",
     "text": [
      "Starting model with 2025 elements.\n"
     ]
    },
    {
     "name": "stderr",
     "output_type": "stream",
     "text": [
      "\r",
      "  9%|▉         | 1/11 [00:02<00:27,  2.76s/it]"
     ]
    },
    {
     "name": "stdout",
     "output_type": "stream",
     "text": [
      "Starting model with 4096 elements.\n"
     ]
    },
    {
     "name": "stderr",
     "output_type": "stream",
     "text": [
      "\r",
      " 18%|█▊        | 2/11 [00:05<00:25,  2.80s/it]"
     ]
    },
    {
     "name": "stdout",
     "output_type": "stream",
     "text": [
      "Starting model with 8100 elements.\n"
     ]
    },
    {
     "name": "stderr",
     "output_type": "stream",
     "text": [
      "\r",
      " 27%|██▋       | 3/11 [00:09<00:27,  3.43s/it]"
     ]
    },
    {
     "name": "stdout",
     "output_type": "stream",
     "text": [
      "Starting model with 16384 elements.\n"
     ]
    },
    {
     "name": "stderr",
     "output_type": "stream",
     "text": [
      "\r",
      " 36%|███▋      | 4/11 [00:16<00:33,  4.82s/it]"
     ]
    },
    {
     "name": "stdout",
     "output_type": "stream",
     "text": [
      "Starting model with 32761 elements.\n"
     ]
    },
    {
     "name": "stderr",
     "output_type": "stream",
     "text": [
      "\r",
      " 45%|████▌     | 5/11 [00:29<00:45,  7.60s/it]"
     ]
    },
    {
     "name": "stdout",
     "output_type": "stream",
     "text": [
      "Starting model with 65536 elements.\n"
     ]
    },
    {
     "name": "stderr",
     "output_type": "stream",
     "text": [
      "\r",
      " 55%|█████▍    | 6/11 [00:52<01:05, 13.03s/it]"
     ]
    },
    {
     "name": "stdout",
     "output_type": "stream",
     "text": [
      "Starting model with 131044 elements.\n"
     ]
    },
    {
     "name": "stderr",
     "output_type": "stream",
     "text": [
      "\r",
      " 64%|██████▎   | 7/11 [01:39<01:35, 23.91s/it]"
     ]
    },
    {
     "name": "stdout",
     "output_type": "stream",
     "text": [
      "Starting model with 262144 elements.\n"
     ]
    }
   ],
   "source": [
    "sizes = sizes = [int(np.sqrt(i)) for i in 2 ** np.arange(11, 22)]\n",
    "print(sizes)\n",
    "\n",
    "res_plastic = []\n",
    "for RES in tqdm(sizes):\n",
    "    with torch.no_grad():\n",
    "        model, state = init_plastic_model(RES) \n",
    "        state = model.forward(state)\n",
    "        print(f'Starting model with {state[0, 0].numel()} elements.')\n",
    "\n",
    "        t_start = time.time()\n",
    "        for i in range(1000):\n",
    "            state = model.forward(state)\n",
    "        t_end = time.time()\n",
    "    elapsed_time = t_end - t_start\n",
    "    print(f'Time elapsed: {elapsed_time:.2f}')\n",
    "    res_plastic.append(elapsed_time)"
   ]
  },
  {
   "cell_type": "markdown",
   "id": "ce0ead16-87be-4203-869a-ca58d8c58cda",
   "metadata": {},
   "source": [
    "------------"
   ]
  },
  {
   "cell_type": "code",
   "execution_count": null,
   "id": "1a71f5b8",
   "metadata": {
    "scrolled": false
   },
   "outputs": [],
   "source": [
    "plt.plot([s*s for s in sizes[:len(res_plastic)]], res_plastic, '-o', lw=5, ms=10)\n",
    "plt.xscale('log')\n",
    "# plt.xticks([5000, 10000, 100000, 200000])\n",
    "plt.yscale('log')\n",
    "plt.xlabel('# of pixels')\n",
    "plt.ylabel('wall time (s)')\n",
    "plt.title('With plasticity')"
   ]
  },
  {
   "cell_type": "code",
   "execution_count": null,
   "id": "79ac89c5",
   "metadata": {},
   "outputs": [],
   "source": [
    "data = np.array([ [sizes[i], res_plastic[i]] for i in range(len(res_plastic)) ])\n",
    "np.save('iafCA_local_times.npy', data)"
   ]
  },
  {
   "cell_type": "code",
   "execution_count": null,
   "id": "2ff396f3",
   "metadata": {},
   "outputs": [],
   "source": []
  }
 ],
 "metadata": {
  "kernelspec": {
   "display_name": "Python 3 (ipykernel)",
   "language": "python",
   "name": "python3"
  },
  "language_info": {
   "codemirror_mode": {
    "name": "ipython",
    "version": 3
   },
   "file_extension": ".py",
   "mimetype": "text/x-python",
   "name": "python",
   "nbconvert_exporter": "python",
   "pygments_lexer": "ipython3",
   "version": "3.9.15"
  }
 },
 "nbformat": 4,
 "nbformat_minor": 5
}

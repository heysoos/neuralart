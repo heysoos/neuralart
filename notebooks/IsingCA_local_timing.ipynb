{
 "cells": [
  {
   "cell_type": "code",
   "execution_count": 1,
   "id": "practical-estonia",
   "metadata": {
    "pycharm": {
     "is_executing": true
    }
   },
   "outputs": [
    {
     "name": "stderr",
     "output_type": "stream",
     "text": [
      "C:\\Users\\Heysoos\\anaconda3\\envs\\torchstuff\\lib\\site-packages\\tqdm\\auto.py:22: TqdmWarning: IProgress not found. Please update jupyter and ipywidgets. See https://ipywidgets.readthedocs.io/en/stable/user_install.html\n",
      "  from .autonotebook import tqdm as notebook_tqdm\n"
     ]
    }
   ],
   "source": [
    "import numpy as np\n",
    "import matplotlib.pyplot as plt\n",
    "\n",
    "import torch\n",
    "\n",
    "from tqdm import tqdm\n",
    "import time\n",
    "\n",
    "from isingCA_local import isingCA"
   ]
  },
  {
   "cell_type": "code",
   "execution_count": 2,
   "id": "saved-bolivia",
   "metadata": {
    "tags": []
   },
   "outputs": [],
   "source": [
    "CHANNELS=1 # number of channels in grid\n",
    "RADIUS=1\n",
    "# BETA=1/(RADIUS * RADIUS * CHANNELS)\n",
    "BETA = 1/2.1\n",
    "ca = isingCA(CHANNELS=CHANNELS, BETA=BETA, RADIUS=RADIUS).cuda() "
   ]
  },
  {
   "cell_type": "code",
   "execution_count": 3,
   "id": "standing-arthritis",
   "metadata": {},
   "outputs": [
    {
     "data": {
      "image/png": "[encoded data removed]",
      "text/plain": [
       "<Figure size 500x500 with 1 Axes>"
      ]
     },
     "metadata": {},
     "output_type": "display_data"
    }
   ],
   "source": [
    "kernels = torch.cat([k for k in ca.rule.nearest_neighbours], dim=0).cpu().detach().numpy()\n",
    "# kernels = totalistic(ca.rule.kernels[0].cpu().detach()).numpy()\n",
    "\n",
    "num_plot_kernels = np.min([6, CHANNELS])\n",
    "fig, axes = plt.subplots(1, num_plot_kernels, figsize=(5, 5))\n",
    "\n",
    "if CHANNELS == 1:\n",
    "    kplot = kernels[0, :, :]\n",
    "    kmax = np.max(np.abs(kplot))\n",
    "    axes.imshow(kplot, vmin=-kmax, vmax=kmax)\n",
    "    axes.axis('off')\n",
    "    \n",
    "else:\n",
    "    for j in range(num_plot_kernels):\n",
    "        kplot = kernels[j, :, :]\n",
    "        kmax = np.max(np.abs(kplot))\n",
    "        axes[j].imshow(kplot, vmin=-kmax, vmax=kmax)\n",
    "        axes[j].axis('off')"
   ]
  },
  {
   "cell_type": "code",
   "execution_count": 15,
   "id": "72d729b9",
   "metadata": {},
   "outputs": [
    {
     "name": "stdout",
     "output_type": "stream",
     "text": [
      "[64, 90, 128, 181, 256, 362, 512, 724, 1024, 1448, 2048, 2896, 4096, 5792, 8192]\n"
     ]
    }
   ],
   "source": [
    "# sizes = [int(i) for i in np.linspace(10, 3500, 10)]\n",
    "# sizes = [int(np.sqrt(i)) for i in 2 ** np.arange(4, 12)]\n",
    "sizes = [int(np.sqrt(i)) for i in 2 ** np.arange(12, 27)]\n",
    "print(sizes)\n",
    "\n",
    "def time_model(model, sizes):\n",
    "    res = []\n",
    "    for RES in sizes:\n",
    "\n",
    "        state = model.initGrid((RES, RES))\n",
    "        state = model.forward(state)\n",
    "        print(f'Starting model with {state[0, 0].numel()} elements.')\n",
    "        \n",
    "        t_start = time.time()\n",
    "        for i in range(1000):\n",
    "            state = model.forward(state)\n",
    "        t_end = time.time()\n",
    "    \n",
    "        elapsed_time = t_end - t_start\n",
    "        res.append(elapsed_time)\n",
    "    return res"
   ]
  },
  {
   "cell_type": "code",
   "execution_count": 16,
   "id": "98098582",
   "metadata": {},
   "outputs": [
    {
     "name": "stdout",
     "output_type": "stream",
     "text": [
      "Starting model with 4096 elements.\n",
      "Starting model with 8100 elements.\n",
      "Starting model with 16384 elements.\n",
      "Starting model with 32761 elements.\n",
      "Starting model with 65536 elements.\n",
      "Starting model with 131044 elements.\n",
      "Starting model with 262144 elements.\n",
      "Starting model with 524176 elements.\n",
      "Starting model with 1048576 elements.\n",
      "Starting model with 2096704 elements.\n",
      "Starting model with 4194304 elements.\n",
      "Starting model with 8386816 elements.\n",
      "Starting model with 16777216 elements.\n",
      "Starting model with 33547264 elements.\n",
      "Starting model with 67108864 elements.\n"
     ]
    }
   ],
   "source": [
    "ca.rule.temp_adapt = False\n",
    "res = time_model(ca, sizes)"
   ]
  },
  {
   "cell_type": "code",
   "execution_count": 17,
   "id": "d47544e1",
   "metadata": {},
   "outputs": [
    {
     "data": {
      "image/png": "[encoded data removed]",
      "text/plain": [
       "<Figure size 640x480 with 1 Axes>"
      ]
     },
     "metadata": {},
     "output_type": "display_data"
    }
   ],
   "source": [
    "plt.plot([s*s for s in sizes], res, '-o', lw=5, ms=10)\n",
    "plt.xscale('log')\n",
    "plt.yscale('log')"
   ]
  },
  {
   "cell_type": "code",
   "execution_count": 14,
   "id": "79fc0bdf",
   "metadata": {},
   "outputs": [
    {
     "ename": "TypeError",
     "evalue": "initGrid() missing 1 required positional argument: 'shape'",
     "output_type": "error",
     "traceback": [
      "\u001b[1;31m---------------------------------------------------------------------------\u001b[0m",
      "\u001b[1;31mTypeError\u001b[0m                                 Traceback (most recent call last)",
      "Cell \u001b[1;32mIn [14], line 1\u001b[0m\n\u001b[1;32m----> 1\u001b[0m \u001b[43mca\u001b[49m\u001b[38;5;241;43m.\u001b[39;49m\u001b[43minitGrid\u001b[49m\u001b[43m(\u001b[49m\u001b[43m)\u001b[49m\u001b[38;5;241m.\u001b[39mshape\n",
      "\u001b[1;31mTypeError\u001b[0m: initGrid() missing 1 required positional argument: 'shape'"
     ]
    }
   ],
   "source": [
    "ca.initGrid().shape"
   ]
  },
  {
   "cell_type": "code",
   "execution_count": 33,
   "id": "25fb6987",
   "metadata": {
    "scrolled": false
   },
   "outputs": [
    {
     "ename": "OutOfMemoryError",
     "evalue": "CUDA out of memory. Tried to allocate 3.35 GiB (GPU 0; 8.00 GiB total capacity; 3.92 GiB already allocated; 2.80 GiB free; 4.11 GiB reserved in total by PyTorch) If reserved memory is >> allocated memory try setting max_split_size_mb to avoid fragmentation.  See documentation for Memory Management and PYTORCH_CUDA_ALLOC_CONF",
     "output_type": "error",
     "traceback": [
      "\u001b[1;31m---------------------------------------------------------------------------\u001b[0m",
      "\u001b[1;31mOutOfMemoryError\u001b[0m                          Traceback (most recent call last)",
      "Cell \u001b[1;32mIn [33], line 2\u001b[0m\n\u001b[0;32m      1\u001b[0m ca\u001b[38;5;241m.\u001b[39mrule\u001b[38;5;241m.\u001b[39mtemp_adapt \u001b[38;5;241m=\u001b[39m \u001b[38;5;28;01mTrue\u001b[39;00m\n\u001b[1;32m----> 2\u001b[0m res_adapt \u001b[38;5;241m=\u001b[39m \u001b[43mtime_model\u001b[49m\u001b[43m(\u001b[49m\u001b[43mca\u001b[49m\u001b[43m,\u001b[49m\u001b[43m \u001b[49m\u001b[43msizes\u001b[49m\u001b[43m)\u001b[49m\n",
      "Cell \u001b[1;32mIn [29], line 13\u001b[0m, in \u001b[0;36mtime_model\u001b[1;34m(model, sizes)\u001b[0m\n\u001b[0;32m     11\u001b[0m t_start \u001b[38;5;241m=\u001b[39m time\u001b[38;5;241m.\u001b[39mtime()\n\u001b[0;32m     12\u001b[0m \u001b[38;5;28;01mfor\u001b[39;00m i \u001b[38;5;129;01min\u001b[39;00m \u001b[38;5;28mrange\u001b[39m(\u001b[38;5;241m1000\u001b[39m):\n\u001b[1;32m---> 13\u001b[0m     state \u001b[38;5;241m=\u001b[39m \u001b[43mmodel\u001b[49m\u001b[38;5;241;43m.\u001b[39;49m\u001b[43mforward\u001b[49m\u001b[43m(\u001b[49m\u001b[43mstate\u001b[49m\u001b[43m)\u001b[49m\n\u001b[0;32m     14\u001b[0m t_end \u001b[38;5;241m=\u001b[39m time\u001b[38;5;241m.\u001b[39mtime()\n\u001b[0;32m     16\u001b[0m elapsed_time \u001b[38;5;241m=\u001b[39m t_end \u001b[38;5;241m-\u001b[39m t_start\n",
      "File \u001b[1;32m~\\Documents\\Pycharm Projects\\neuralart\\notebooks\\isingCA_local.py:98\u001b[0m, in \u001b[0;36misingCA.forward\u001b[1;34m(self, x)\u001b[0m\n\u001b[0;32m     97\u001b[0m \u001b[38;5;28;01mdef\u001b[39;00m \u001b[38;5;21mforward\u001b[39m(\u001b[38;5;28mself\u001b[39m, x):\n\u001b[1;32m---> 98\u001b[0m     \u001b[38;5;28;01mreturn\u001b[39;00m \u001b[38;5;28;43mself\u001b[39;49m\u001b[38;5;241;43m.\u001b[39;49m\u001b[43mrule\u001b[49m\u001b[43m(\u001b[49m\u001b[43mx\u001b[49m\u001b[43m)\u001b[49m\n",
      "File \u001b[1;32m~\\anaconda3\\envs\\torchstuff\\lib\\site-packages\\torch\\nn\\modules\\module.py:1190\u001b[0m, in \u001b[0;36mModule._call_impl\u001b[1;34m(self, *input, **kwargs)\u001b[0m\n\u001b[0;32m   1186\u001b[0m \u001b[38;5;66;03m# If we don't have any hooks, we want to skip the rest of the logic in\u001b[39;00m\n\u001b[0;32m   1187\u001b[0m \u001b[38;5;66;03m# this function, and just call forward.\u001b[39;00m\n\u001b[0;32m   1188\u001b[0m \u001b[38;5;28;01mif\u001b[39;00m \u001b[38;5;129;01mnot\u001b[39;00m (\u001b[38;5;28mself\u001b[39m\u001b[38;5;241m.\u001b[39m_backward_hooks \u001b[38;5;129;01mor\u001b[39;00m \u001b[38;5;28mself\u001b[39m\u001b[38;5;241m.\u001b[39m_forward_hooks \u001b[38;5;129;01mor\u001b[39;00m \u001b[38;5;28mself\u001b[39m\u001b[38;5;241m.\u001b[39m_forward_pre_hooks \u001b[38;5;129;01mor\u001b[39;00m _global_backward_hooks\n\u001b[0;32m   1189\u001b[0m         \u001b[38;5;129;01mor\u001b[39;00m _global_forward_hooks \u001b[38;5;129;01mor\u001b[39;00m _global_forward_pre_hooks):\n\u001b[1;32m-> 1190\u001b[0m     \u001b[38;5;28;01mreturn\u001b[39;00m forward_call(\u001b[38;5;241m*\u001b[39m\u001b[38;5;28minput\u001b[39m, \u001b[38;5;241m*\u001b[39m\u001b[38;5;241m*\u001b[39mkwargs)\n\u001b[0;32m   1191\u001b[0m \u001b[38;5;66;03m# Do not call functions when jit is used\u001b[39;00m\n\u001b[0;32m   1192\u001b[0m full_backward_hooks, non_full_backward_hooks \u001b[38;5;241m=\u001b[39m [], []\n",
      "File \u001b[1;32m~\\Documents\\Pycharm Projects\\neuralart\\notebooks\\isingCA_local.py:64\u001b[0m, in \u001b[0;36mRule.forward\u001b[1;34m(self, x)\u001b[0m\n\u001b[0;32m     61\u001b[0m temp_kernel_size \u001b[38;5;241m=\u001b[39m \u001b[38;5;241m2\u001b[39m\u001b[38;5;241m*\u001b[39mtemp_rad \u001b[38;5;241m+\u001b[39m \u001b[38;5;241m1\u001b[39m\n\u001b[0;32m     62\u001b[0m pads \u001b[38;5;241m=\u001b[39m \u001b[38;5;28mtuple\u001b[39m([Rk \u001b[38;5;241m*\u001b[39m \u001b[38;5;28mself\u001b[39m\u001b[38;5;241m.\u001b[39mtemp_kernel_size \u001b[38;5;28;01mfor\u001b[39;00m i \u001b[38;5;129;01min\u001b[39;00m \u001b[38;5;28mrange\u001b[39m(\u001b[38;5;241m4\u001b[39m)])\n\u001b[1;32m---> 64\u001b[0m s_unfold \u001b[38;5;241m=\u001b[39m \u001b[43mF\u001b[49m\u001b[38;5;241;43m.\u001b[39;49m\u001b[43munfold\u001b[49m\u001b[43m(\u001b[49m\u001b[43ms_pad\u001b[49m\u001b[43m,\u001b[49m\u001b[43m \u001b[49m\u001b[38;5;241;43m2\u001b[39;49m\u001b[38;5;241;43m*\u001b[39;49m\u001b[43mRk\u001b[49m\u001b[43m \u001b[49m\u001b[38;5;241;43m+\u001b[39;49m\u001b[43m \u001b[49m\u001b[38;5;241;43m1\u001b[39;49m\u001b[43m)\u001b[49m \u001b[38;5;66;03m# localize measurements\u001b[39;00m\n\u001b[0;32m     65\u001b[0m sm \u001b[38;5;241m=\u001b[39m (s_unfold\u001b[38;5;241m.\u001b[39mmean(dim\u001b[38;5;241m=\u001b[39m\u001b[38;5;241m1\u001b[39m))\u001b[38;5;241m.\u001b[39mreshape(shape)\n\u001b[0;32m     67\u001b[0m b_tpad \u001b[38;5;241m=\u001b[39m F\u001b[38;5;241m.\u001b[39mpad(b, pads, mode\u001b[38;5;241m=\u001b[39m\u001b[38;5;124m'\u001b[39m\u001b[38;5;124mcircular\u001b[39m\u001b[38;5;124m'\u001b[39m)\n",
      "File \u001b[1;32m~\\anaconda3\\envs\\torchstuff\\lib\\site-packages\\torch\\nn\\functional.py:4669\u001b[0m, in \u001b[0;36munfold\u001b[1;34m(input, kernel_size, dilation, padding, stride)\u001b[0m\n\u001b[0;32m   4665\u001b[0m \u001b[38;5;28;01mif\u001b[39;00m has_torch_function_unary(\u001b[38;5;28minput\u001b[39m):\n\u001b[0;32m   4666\u001b[0m     \u001b[38;5;28;01mreturn\u001b[39;00m handle_torch_function(\n\u001b[0;32m   4667\u001b[0m         unfold, (\u001b[38;5;28minput\u001b[39m,), \u001b[38;5;28minput\u001b[39m, kernel_size, dilation\u001b[38;5;241m=\u001b[39mdilation, padding\u001b[38;5;241m=\u001b[39mpadding, stride\u001b[38;5;241m=\u001b[39mstride\n\u001b[0;32m   4668\u001b[0m     )\n\u001b[1;32m-> 4669\u001b[0m \u001b[38;5;28;01mreturn\u001b[39;00m \u001b[43mtorch\u001b[49m\u001b[38;5;241;43m.\u001b[39;49m\u001b[43m_C\u001b[49m\u001b[38;5;241;43m.\u001b[39;49m\u001b[43m_nn\u001b[49m\u001b[38;5;241;43m.\u001b[39;49m\u001b[43mim2col\u001b[49m\u001b[43m(\u001b[49m\u001b[38;5;28;43minput\u001b[39;49m\u001b[43m,\u001b[49m\u001b[43m \u001b[49m\u001b[43m_pair\u001b[49m\u001b[43m(\u001b[49m\u001b[43mkernel_size\u001b[49m\u001b[43m)\u001b[49m\u001b[43m,\u001b[49m\u001b[43m \u001b[49m\u001b[43m_pair\u001b[49m\u001b[43m(\u001b[49m\u001b[43mdilation\u001b[49m\u001b[43m)\u001b[49m\u001b[43m,\u001b[49m\u001b[43m \u001b[49m\u001b[43m_pair\u001b[49m\u001b[43m(\u001b[49m\u001b[43mpadding\u001b[49m\u001b[43m)\u001b[49m\u001b[43m,\u001b[49m\u001b[43m \u001b[49m\u001b[43m_pair\u001b[49m\u001b[43m(\u001b[49m\u001b[43mstride\u001b[49m\u001b[43m)\u001b[49m\u001b[43m)\u001b[49m\n",
      "\u001b[1;31mOutOfMemoryError\u001b[0m: CUDA out of memory. Tried to allocate 3.35 GiB (GPU 0; 8.00 GiB total capacity; 3.92 GiB already allocated; 2.80 GiB free; 4.11 GiB reserved in total by PyTorch) If reserved memory is >> allocated memory try setting max_split_size_mb to avoid fragmentation.  See documentation for Memory Management and PYTORCH_CUDA_ALLOC_CONF"
     ]
    }
   ],
   "source": [
    "ca.rule.temp_adapt = True\n",
    "res_adapt = time_model(ca, sizes)"
   ]
  },
  {
   "cell_type": "code",
   "execution_count": null,
   "id": "9dfc9f1a",
   "metadata": {},
   "outputs": [],
   "source": [
    "plt.plot(sizes, res_adapt, '-o', lw=5, ms=10)"
   ]
  },
  {
   "cell_type": "code",
   "execution_count": null,
   "id": "bf9682e0",
   "metadata": {},
   "outputs": [],
   "source": [
    "n_pixels = [s ** 2 for s in sizes]\n",
    "plt.plot(n_pixels, res, '-o', lw=5, ms=10, label='classic')\n",
    "plt.plot(n_pixels, res_adapt, '-o', lw=5, ms=10, label='adaptive')\n",
    "plt.xlabel('# of pixels')\n",
    "plt.ylabel('compute time')\n",
    "plt.legend()\n"
   ]
  },
  {
   "cell_type": "code",
   "execution_count": 110,
   "id": "6d9fbca1",
   "metadata": {},
   "outputs": [],
   "source": [
    "del state"
   ]
  },
  {
   "cell_type": "code",
   "execution_count": 15,
   "id": "7a81f3b4",
   "metadata": {},
   "outputs": [],
   "source": [
    "def time_rnn(sizes):\n",
    "    res = []\n",
    "    for s in sizes:\n",
    "        rnn = torch.nn.RNN(1, s).cuda()\n",
    "        input = torch.zeros(10000, 1).cuda()\n",
    "        \n",
    "        t_start = time.time()\n",
    "        \n",
    "        rnn.forward(input)\n",
    "        \n",
    "        t_end = time.time()    \n",
    "        elapsed_time = t_end - t_start\n",
    "        res.append(elapsed_time)\n",
    "    return res"
   ]
  },
  {
   "cell_type": "code",
   "execution_count": 16,
   "id": "5eb6477f",
   "metadata": {},
   "outputs": [],
   "source": [
    "rnn_sizes = [10, 50, 100, 200, 500, 1000, 5000, 10000]\n",
    "res_rnn = time_rnn(sizes=rnn_sizes)"
   ]
  },
  {
   "cell_type": "code",
   "execution_count": 17,
   "id": "68af7109",
   "metadata": {},
   "outputs": [
    {
     "data": {
      "text/plain": [
       "[<matplotlib.lines.Line2D at 0x2394bea8c10>]"
      ]
     },
     "execution_count": 17,
     "metadata": {},
     "output_type": "execute_result"
    },
    {
     "data": {
      "image/png": "[encoded data removed]",
      "text/plain": [
       "<Figure size 640x480 with 1 Axes>"
      ]
     },
     "metadata": {},
     "output_type": "display_data"
    }
   ],
   "source": [
    "plt.plot(rnn_sizes, res_rnn, '-o', lw=5, ms=10, label='rnn')"
   ]
  },
  {
   "cell_type": "code",
   "execution_count": 5,
   "id": "99f79f6d",
   "metadata": {},
   "outputs": [
    {
     "ename": "NameError",
     "evalue": "name 'sizes' is not defined",
     "output_type": "error",
     "traceback": [
      "\u001b[1;31m---------------------------------------------------------------------------\u001b[0m",
      "\u001b[1;31mNameError\u001b[0m                                 Traceback (most recent call last)",
      "Cell \u001b[1;32mIn [5], line 1\u001b[0m\n\u001b[1;32m----> 1\u001b[0m n_pixels \u001b[38;5;241m=\u001b[39m [s \u001b[38;5;241m*\u001b[39m\u001b[38;5;241m*\u001b[39m \u001b[38;5;241m2\u001b[39m \u001b[38;5;28;01mfor\u001b[39;00m s \u001b[38;5;129;01min\u001b[39;00m \u001b[43msizes\u001b[49m]\n\u001b[0;32m      2\u001b[0m plt\u001b[38;5;241m.\u001b[39mplot(n_pixels, res, \u001b[38;5;124m'\u001b[39m\u001b[38;5;124m-o\u001b[39m\u001b[38;5;124m'\u001b[39m, lw\u001b[38;5;241m=\u001b[39m\u001b[38;5;241m5\u001b[39m, ms\u001b[38;5;241m=\u001b[39m\u001b[38;5;241m10\u001b[39m, label\u001b[38;5;241m=\u001b[39m\u001b[38;5;124m'\u001b[39m\u001b[38;5;124mclassic\u001b[39m\u001b[38;5;124m'\u001b[39m)\n\u001b[0;32m      3\u001b[0m plt\u001b[38;5;241m.\u001b[39mplot(n_pixels, res_adapt, \u001b[38;5;124m'\u001b[39m\u001b[38;5;124m-o\u001b[39m\u001b[38;5;124m'\u001b[39m, lw\u001b[38;5;241m=\u001b[39m\u001b[38;5;241m5\u001b[39m, ms\u001b[38;5;241m=\u001b[39m\u001b[38;5;241m10\u001b[39m, label\u001b[38;5;241m=\u001b[39m\u001b[38;5;124m'\u001b[39m\u001b[38;5;124madaptive\u001b[39m\u001b[38;5;124m'\u001b[39m)\n",
      "\u001b[1;31mNameError\u001b[0m: name 'sizes' is not defined"
     ]
    }
   ],
   "source": [
    "n_pixels = [s ** 2 for s in sizes]\n",
    "plt.plot(n_pixels, res, '-o', lw=5, ms=10, label='classic')\n",
    "plt.plot(n_pixels, res_adapt, '-o', lw=5, ms=10, label='adaptive')\n",
    "plt.plot(sizes, res_rnn, '-o', lw=5, ms=10, label='rnn')\n",
    "plt.xlabel('# of pixels')\n",
    "plt.ylabel('compute time')\n",
    "plt.legend()\n"
   ]
  },
  {
   "cell_type": "markdown",
   "id": "ce0ead16-87be-4203-869a-ca58d8c58cda",
   "metadata": {},
   "source": [
    "------------"
   ]
  },
  {
   "cell_type": "code",
   "execution_count": 2,
   "id": "01f4deca-9e56-456a-8ef6-4755b0ab96c1",
   "metadata": {
    "pycharm": {
     "is_executing": true
    }
   },
   "outputs": [],
   "source": [
    "from isingCA_global import isingCA"
   ]
  },
  {
   "cell_type": "code",
   "execution_count": 3,
   "id": "9dea4532-935c-4a07-a55e-9140f46d7954",
   "metadata": {},
   "outputs": [],
   "source": [
    "CHANNELS=1 # number of channels in grid\n",
    "RADIUS=1\n",
    "TEMP_ADAPT=True\n",
    "\n",
    "def init_isingCA():    \n",
    "    BETA = 1.\n",
    "    ca = isingCA(CHANNELS=CHANNELS, BETA=BETA, RADIUS=RADIUS, TEMP_ADAPT=TEMP_ADAPT).cuda() \n",
    "    \n",
    "    return ca\n",
    "\n",
    "ca = init_isingCA().eval()"
   ]
  },
  {
   "cell_type": "code",
   "execution_count": 4,
   "id": "d867c97a-38b1-4a1c-b0d0-e22a3f94a69a",
   "metadata": {},
   "outputs": [
    {
     "ename": "NameError",
     "evalue": "name 'torch' is not defined",
     "output_type": "error",
     "traceback": [
      "\u001b[1;31m---------------------------------------------------------------------------\u001b[0m",
      "\u001b[1;31mNameError\u001b[0m                                 Traceback (most recent call last)",
      "Cell \u001b[1;32mIn [4], line 1\u001b[0m\n\u001b[1;32m----> 1\u001b[0m kernels \u001b[38;5;241m=\u001b[39m \u001b[43mtorch\u001b[49m\u001b[38;5;241m.\u001b[39mcat([k \u001b[38;5;28;01mfor\u001b[39;00m k \u001b[38;5;129;01min\u001b[39;00m ca\u001b[38;5;241m.\u001b[39mrule\u001b[38;5;241m.\u001b[39mnearest_neighbours], dim\u001b[38;5;241m=\u001b[39m\u001b[38;5;241m0\u001b[39m)\u001b[38;5;241m.\u001b[39mcpu()\u001b[38;5;241m.\u001b[39mdetach()\u001b[38;5;241m.\u001b[39mnumpy()\n\u001b[0;32m      2\u001b[0m \u001b[38;5;66;03m# kernels = totalistic(ca.rule.kernels[0].cpu().detach()).numpy()\u001b[39;00m\n\u001b[0;32m      4\u001b[0m num_plot_kernels \u001b[38;5;241m=\u001b[39m np\u001b[38;5;241m.\u001b[39mmin([\u001b[38;5;241m6\u001b[39m, CHANNELS])\n",
      "\u001b[1;31mNameError\u001b[0m: name 'torch' is not defined"
     ]
    }
   ],
   "source": [
    "kernels = torch.cat([k for k in ca.rule.nearest_neighbours], dim=0).cpu().detach().numpy()\n",
    "# kernels = totalistic(ca.rule.kernels[0].cpu().detach()).numpy()\n",
    "\n",
    "num_plot_kernels = np.min([6, CHANNELS])\n",
    "fig, axes = plt.subplots(1, num_plot_kernels, figsize=(5, 5))\n",
    "\n",
    "if CHANNELS == 1:\n",
    "    kplot = kernels[0, :, :]\n",
    "    kmax = np.max(np.abs(kplot))\n",
    "    axes.imshow(kplot, vmin=-kmax, vmax=kmax)\n",
    "    axes.axis('off')\n",
    "    \n",
    "else:\n",
    "    for j in range(num_plot_kernels):\n",
    "        kplot = kernels[j, :, :]\n",
    "        kmax = np.max(np.abs(kplot))\n",
    "        axes[j].imshow(kplot, vmin=-kmax, vmax=kmax)\n",
    "        axes[j].axis('off')"
   ]
  },
  {
   "cell_type": "code",
   "execution_count": 4,
   "id": "c4a469d1-dfb9-4c33-bb70-985da96ba649",
   "metadata": {},
   "outputs": [
    {
     "data": {
      "image/png": "[encoded data removed]",
      "text/plain": [
       "<Figure size 640x480 with 1 Axes>"
      ]
     },
     "metadata": {},
     "output_type": "display_data"
    }
   ],
   "source": [
    "plt.hist(kernels.reshape(-1));"
   ]
  },
  {
   "cell_type": "code",
   "execution_count": 59,
   "id": "1d074c02-25b1-416d-87a3-a4034e3aa8bf",
   "metadata": {},
   "outputs": [
    {
     "name": "stderr",
     "output_type": "stream",
     "text": [
      "100%|██████████| 30/30 [06:47<00:00, 13.57s/it]\n"
     ]
    }
   ],
   "source": [
    "RESX = RESY = 320\n",
    "timesteps = 20000\n",
    "num_iters = 30\n",
    "export_imgs = False\n",
    "\n",
    "m_s = []\n",
    "t_s = []\n",
    "\n",
    "# Xi = []\n",
    "# C = []\n",
    "for j in tqdm(range(num_iters)):\n",
    "    ca = init_isingCA()\n",
    "    state = ca.initGrid((RESX, RESY))\n",
    "    m = []\n",
    "    t = []\n",
    "    \n",
    "    Mm = 0.\n",
    "    M2m = 0.\n",
    "    Em = 0.\n",
    "    E2m = 0.\n",
    "    for i in range(timesteps):\n",
    "        state, E = ca.forward(state, return_E=True)\n",
    "\n",
    "        if export_imgs:\n",
    "            imgs.append(nx)\n",
    "        \n",
    "        energy = E.cpu().numpy()\n",
    "        magnetization = state[0, 0].mean().cpu().numpy()\n",
    "        temperature = 1. / ca.rule.beta.cpu().numpy()[0]\n",
    "        \n",
    "        # Mm += magnetization\n",
    "        # M2m += magnetization ** 2\n",
    "        # Em += energy\n",
    "        # E2m += energy ** 2\n",
    "\n",
    "        m.append(magnetization)\n",
    "        t.append(temperature)\n",
    "    \n",
    "#     Mm /= timesteps\n",
    "#     M2m /= timesteps\n",
    "#     Em /= timesteps\n",
    "#     E2m /= timesteps\n",
    "    \n",
    "#     Xi.append( (E2m - Em * Em) * (1 / temperature) ** 2 )\n",
    "#     C.append( (M2m - Mm * Mm) * (1 / temperature) )\n",
    "        \n",
    "    m_s.append(m)\n",
    "    t_s.append(t)"
   ]
  }
 ],
 "metadata": {
  "kernelspec": {
   "display_name": "Python 3 (ipykernel)",
   "language": "python",
   "name": "python3"
  },
  "language_info": {
   "codemirror_mode": {
    "name": "ipython",
    "version": 3
   },
   "file_extension": ".py",
   "mimetype": "text/x-python",
   "name": "python",
   "nbconvert_exporter": "python",
   "pygments_lexer": "ipython3",
   "version": "3.9.15"
  }
 },
 "nbformat": 4,
 "nbformat_minor": 5
}

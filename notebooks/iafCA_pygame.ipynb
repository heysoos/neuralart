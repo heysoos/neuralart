{
 "cells": [
  {
   "cell_type": "code",
   "execution_count": 1,
   "id": "lasting-offense",
   "metadata": {},
   "outputs": [
    {
     "name": "stdout",
     "output_type": "stream",
     "text": [
      "pygame 2.0.1 (SDL 2.0.14, Python 3.9.9)\n",
      "Hello from the pygame community. https://www.pygame.org/contribute.html\n"
     ]
    }
   ],
   "source": [
    "import numpy as np\n",
    "import matplotlib.pyplot as plt\n",
    "\n",
    "import torch\n",
    "import torch.nn as nn\n",
    "import torch.nn.functional as F\n",
    "from torchvision import models\n",
    "# from torch.utils.tensorboard import SummaryWriter\n",
    "\n",
    "from PIL import Image\n",
    "from skimage.color import rgba2rgb\n",
    "import cv2\n",
    "from IPython.display import display, clear_output\n",
    "from math import *\n",
    "import time\n",
    "\n",
    "from os import makedirs, path\n",
    "from copy import deepcopy\n",
    "\n",
    "from tqdm import tqdm\n",
    "\n",
    "from iafCA import iafCA\n",
    "import pygame\n",
    "from physicsCA import min_max"
   ]
  },
  {
   "cell_type": "code",
   "execution_count": 2,
   "id": "leading-triangle",
   "metadata": {},
   "outputs": [],
   "source": [
    "def LMB_make(state, r=5, s=1):\n",
    "    '''\n",
    "    left click to make\n",
    "    r: radius of brush\n",
    "    s: smoothing / sigma\n",
    "    '''\n",
    "    xcl, ycl = pygame.mouse.get_pos()\n",
    "    xcl, ycl = int(xcl/UPSCALE), int(ycl/UPSCALE)\n",
    "    \n",
    "    # radial blur\n",
    "    xm, ym = torch.meshgrid(torch.linspace(-1, 1, 2*r), torch.linspace(-1, 1, 2*r))\n",
    "    rm = torch.sqrt(xm**2 + ym**2).type(torch.double)\n",
    "    blur = torch.exp(-rm**2 / s**2)\n",
    "    blur = torch.where(rm <= 1., blur, 0.) # circular mask\n",
    "    \n",
    "    xslice = range(xcl - r, xcl + r)\n",
    "    yslice = range(ycl - r, ycl + r)\n",
    "    for count_i, i in enumerate(xslice):\n",
    "        for count_j, j in enumerate(yslice):\n",
    "            i = i % RESX\n",
    "            j = j % RESY\n",
    "            state[:, 1, i, j] = state[:, 1, i, j] + 5.\n",
    "    return state\n",
    "    \n",
    "    \n",
    "def RMB_del(state, r=5, s=1):\n",
    "    '''\n",
    "    right click to erase\n",
    "    r: radius of eraser\n",
    "    s: smoothing / sigma\n",
    "    '''\n",
    "    xcl, ycl = pygame.mouse.get_pos()\n",
    "    xcl, ycl = int(xcl/UPSCALE), int(ycl/UPSCALE)\n",
    "    \n",
    "    # radial blur\n",
    "    xm, ym = torch.meshgrid(torch.linspace(-1, 1, 2*r), torch.linspace(-1, 1, 2*r))\n",
    "    rm = torch.sqrt(xm**2 + ym**2).type(torch.double)\n",
    "    blur = (1 - torch.exp(-rm**2 / s**2))\n",
    "    blur = torch.where(rm <= 1., blur, 1.) # circular mask\n",
    "    \n",
    "    xslice = range(xcl - r, xcl + r)\n",
    "    yslice = range(ycl - r, ycl + r)\n",
    "    for count_i, i in enumerate(xslice):\n",
    "        for count_j, j in enumerate(yslice):\n",
    "            i = i % RESX\n",
    "            j = j % RESY\n",
    "            state[:, 1, i, j] = state[:, 1, i, j] - 0.2\n",
    "    return state\n",
    "\n",
    "def WHEEL_permute(cdim_order, direction):\n",
    "    cdim_order = np.mod(np.add(cdim_order, direction), 7)\n",
    "    \n",
    "    return cdim_order\n",
    "\n",
    "def min_max(mat):\n",
    "    return (mat - mat.min()) / (mat.max() - mat.min())"
   ]
  },
  {
   "cell_type": "markdown",
   "id": "surface-contributor",
   "metadata": {
    "tags": []
   },
   "source": [
    "# Test"
   ]
  },
  {
   "cell_type": "code",
   "execution_count": 3,
   "id": "fitted-branch",
   "metadata": {
    "pycharm": {
     "name": "#%%\n"
    },
    "tags": []
   },
   "outputs": [],
   "source": [
    "RADIUS=20\n",
    "kernel_increment = .2\n",
    "ca = iafCA(RADIUS=RADIUS).cuda() "
   ]
  },
  {
   "cell_type": "code",
   "execution_count": 4,
   "id": "unusual-browse",
   "metadata": {},
   "outputs": [
    {
     "data": {
      "text/plain": [
       "<matplotlib.colorbar.Colorbar at 0x7f6fb4e65d00>"
      ]
     },
     "execution_count": 4,
     "metadata": {},
     "output_type": "execute_result"
    },
    {
     "data": {
      "image/png": "[encoded data removed]",
      "text/plain": [
       "<Figure size 432x288 with 2 Axes>"
      ]
     },
     "metadata": {
      "needs_background": "light"
     },
     "output_type": "display_data"
    }
   ],
   "source": [
    "plt.imshow(ca.rule.nearest_neighbours.data[0, 0].cpu().numpy())\n",
    "plt.colorbar()"
   ]
  },
  {
   "cell_type": "code",
   "execution_count": 5,
   "id": "joint-tuner",
   "metadata": {},
   "outputs": [],
   "source": [
    "# brush properties\n",
    "r = 20\n",
    "s = 1"
   ]
  },
  {
   "cell_type": "markdown",
   "id": "urban-shaft",
   "metadata": {
    "tags": []
   },
   "source": [
    "### Init Webcam"
   ]
  },
  {
   "cell_type": "code",
   "execution_count": 6,
   "id": "local-oriental",
   "metadata": {},
   "outputs": [],
   "source": [
    "cap = cv2.VideoCapture(0)\n",
    "\n",
    "# Check if the webcam is opened correctly\n",
    "if not cap.isOpened():\n",
    "    raise IOError(\"Cannot open webcam\")\n",
    "\n",
    "# while True:\n",
    "#     ret, frame = cap.read()\n",
    "#     frame = cv2.resize(frame, None, fx=0.5, fy=0.5, interpolation=cv2.INTER_AREA)\n",
    "#     cv2.imshow('Input', frame)\n",
    "\n",
    "#     c = cv2.waitKey(1)\n",
    "#     if c == 27:\n",
    "#         break\n",
    "\n",
    "# cap.release()\n",
    "# cv2.destroyAllWindows()"
   ]
  },
  {
   "cell_type": "code",
   "execution_count": 7,
   "id": "valued-binding",
   "metadata": {},
   "outputs": [],
   "source": [
    "ret, frame = cap.read()\n",
    "frame = cv2.resize(frame, None, fx=1, fy=1, interpolation=cv2.INTER_AREA)\n",
    "frame = cv2.cvtColor(frame, cv2.COLOR_BGR2GRAY)"
   ]
  },
  {
   "cell_type": "code",
   "execution_count": 8,
   "id": "developmental-equity",
   "metadata": {},
   "outputs": [],
   "source": [
    "target_file = 'target/pug.png'\n",
    "target_img = Image.open(target_file).convert('L')\n",
    "target_img = np.array(target_img).transpose() / 255.0\n",
    "target_img = torch.cuda.FloatTensor(target_img)\n",
    "inject_scale = 10.\n",
    "inject_img = False"
   ]
  },
  {
   "cell_type": "code",
   "execution_count": 9,
   "id": "d1686283-9af1-4319-a967-134970bba9cd",
   "metadata": {},
   "outputs": [],
   "source": [
    "def kernel_delta(state):\n",
    "    unf_s = F.unfold(state[:, [0], ...], 2 * RADIUS + 1, padding=RADIUS)\n",
    "    "
   ]
  },
  {
   "cell_type": "code",
   "execution_count": 10,
   "id": "regulation-challenge",
   "metadata": {
    "pycharm": {
     "name": "#%%\n"
    },
    "tags": []
   },
   "outputs": [],
   "source": [
    "# resolution of grid\n",
    "RESX= 640 #target_img.shape[0] # 1280\n",
    "RESY= 640 #target_img.shape[1]  # 720\n",
    "\n",
    "# RESX= 1000 # 1280\n",
    "# RESY= 1000  # 720\n",
    "\n",
    "# pygame stuff\n",
    "######################################\n",
    "pygame.init()\n",
    "size = RESX, RESY\n",
    "\n",
    "win = pygame.display.set_mode((RESX, RESY))\n",
    "\n",
    "screen = pygame.Surface(size)\n",
    "UPSCALE = 1\n",
    "RESXup, RESYup = int(RESX*UPSCALE), int(RESY*UPSCALE)\n",
    "upscaled_screen = pygame.display.set_mode([RESXup, RESYup])\n",
    "\n",
    "# webcam stuff\n",
    "######################################\n",
    "inject_webcam = False\n",
    "wbcam_fx = int(RESX / frame.shape[0])\n",
    "wbcam_fy = int(RESX / frame.shape[1]) #RESY \n",
    "img_norm = 1/255. \n",
    "\n",
    "running = True\n",
    "time_ticking = True\n",
    "self_organize = False\n",
    "LMB_trigger = False\n",
    "RMB_trigger = False\n",
    "WHEEL_trigger = False\n",
    "cdim_order = np.arange(0, 6)\n",
    "\n",
    "clock = pygame.time.Clock()\n",
    "font = pygame.font.SysFont(\"Noto Sans\", 12)\n",
    "def update_fps(clock, font):\n",
    "    fps = str(int(clock.get_fps()))\n",
    "    fps_text = font.render(fps, 1, pygame.Color(\"white\"))\n",
    "    fps_bg = pygame.Surface((fps_text.get_height(),fps_text.get_width()))  # the size of your rect\n",
    "    fps_bg.set_alpha(50)                # alpha level\n",
    "    fps_bg.fill((255,255,255))           # this fills the entire surface\n",
    "\n",
    "    fps_surf = pygame.Surface((fps_bg.get_height(), fps_bg.get_width()))\n",
    "    fps_surf.blit(fps_bg, (0, 0))\n",
    "    fps_surf.blit(fps_text, (0, 0))\n",
    "    return fps_surf\n",
    "######################################\n",
    "\n",
    "\n",
    "state = ca.initGrid((RESX, RESY))\n",
    "og_kernel = ca.rule.nearest_neighbours\n",
    "kernel_scale = 1\n",
    "\n",
    "# inject noise\n",
    "signal_injection = torch.zeros(size=state.shape)\n",
    "noise_amp = 1.\n",
    "noise_idx = slice(4, 10)\n",
    "\n",
    "update_rate = 1.\n",
    "ticker = 0.\n",
    "sink = False\n",
    "export_imgs = False\n",
    "imgs = []\n",
    "\n",
    "with torch.no_grad():\n",
    "    while running:              \n",
    "        for event in pygame.event.get():\n",
    "            if event.type == pygame.QUIT:\n",
    "                running = False\n",
    "                \n",
    "            if event.type == pygame.MOUSEBUTTONDOWN:\n",
    "                if event.button == 1:\n",
    "                    LMB_trigger = True\n",
    "                if event.button == 3:\n",
    "                    RMB_trigger = True\n",
    "            if event.type == pygame.MOUSEBUTTONUP:\n",
    "                if event.button == 1:\n",
    "                    LMB_trigger = False\n",
    "                if event.button == 3:\n",
    "                    RMB_trigger = False\n",
    "                    \n",
    "            if event.type == pygame.MOUSEWHEEL:\n",
    "                WHEEL_trigger = True\n",
    "                direction = -event.y\n",
    "                \n",
    "            if event.type == pygame.KEYDOWN and event.key == pygame.K_LEFTBRACKET:\n",
    "                update_rate += -0.5\n",
    "            if event.type == pygame.KEYDOWN and event.key == pygame.K_RIGHTBRACKET:\n",
    "                update_rate += 0.5\n",
    "            \n",
    "            if event.type == pygame.MOUSEBUTTONUP and event.button == 2:\n",
    "                # scroll through channel dims\n",
    "                cdim_order = np.arange(0, state.shape[1])\n",
    "                    \n",
    "#             if event.type == pygame.KEYDOWN and event.key == pygame.K_SPACE:\n",
    "#                 # pick another random CA\n",
    "#                 ca = CA(CHANNELS=CHANNELS, FILTERS=FILTERS, NET_SIZE=NET_SIZE, RADIUS=RADIUS).cuda() \n",
    "                \n",
    "                \n",
    "#             if event.type == pygame.VIDEORESIZE:\n",
    "#                 print(event.w, event.h)\n",
    "#                 surface = pygame.display.set_mode((event.w, event.h),\n",
    "#                                               pygame.RESIZABLE)\n",
    "            if event.type == pygame.KEYDOWN and event.key == pygame.K_k:\n",
    "                ca.rule.nearest_neighbours = ca.rule.generate_cppn_kernel() \n",
    "                og_kernel = ca.rule.nearest_neighbours\n",
    "            if event.type == pygame.KEYDOWN and event.key == pygame.K_UP:\n",
    "                kernel_scale += kernel_increment\n",
    "                ca.rule.nearest_neighbours = og_kernel * kernel_scale\n",
    "            if event.type == pygame.KEYDOWN and event.key == pygame.K_DOWN:\n",
    "                kernel_scale -= kernel_increment\n",
    "                ca.rule.nearest_neighbours = og_kernel * kernel_scale\n",
    "            if event.type == pygame.KEYDOWN and event.key == pygame.K_w:\n",
    "                inject_webcam = not inject_webcam\n",
    "                \n",
    "            if event.type == pygame.KEYDOWN and event.key == pygame.K_s:\n",
    "                sink = not sink\n",
    "            if event.type == pygame.KEYDOWN and event.key == pygame.K_e:\n",
    "                export_imgs = not export_imgs\n",
    "            if event.type == pygame.KEYDOWN and event.key == pygame.K_p:\n",
    "                # pause/toggle time\n",
    "                time_ticking = not time_ticking\n",
    "                \n",
    "            if event.type == pygame.KEYDOWN and event.key == pygame.K_r:\n",
    "                # start from seed \n",
    "                state = ca.initGrid((RESX, RESY))\n",
    "                \n",
    "            if event.type == pygame.KEYDOWN and event.key == pygame.K_g:\n",
    "                # inject img (ginger)\n",
    "                inject_img = not inject_img\n",
    "                # if inject_img:\n",
    "                #     ca.rule.target_rate_mat = 6 + (target_img.unsqueeze(0).unsqueeze(0) * inject_scale - inject_scale/2)\n",
    "                # else:\n",
    "                #     ca.rule.target_rate_mat = torch.ones_like(ca.rule.target_rate_mat) * ca.rule.target_rate\n",
    "                    \n",
    "                \n",
    "\n",
    "        mouse_pos = pygame.mouse.get_pos()\n",
    "        if LMB_trigger:\n",
    "            state = LMB_make(state, r=r, s=s)\n",
    "        if RMB_trigger:\n",
    "            state = RMB_del(state, r=r, s=s)\n",
    "            \n",
    "        if WHEEL_trigger:\n",
    "            cdim_order = WHEEL_permute(cdim_order, direction)\n",
    "            WHEEL_trigger = False\n",
    "            \n",
    "#        nx = state.cpu()[:, cdim_order].numpy()[0, 0, :, :].transpose(1, 2, 0)\n",
    "        # nx = state.cpu().numpy()[0, cdim_order[0], :, :]\n",
    "#        nx = state.cpu().numpy()[0, [0, 1, 5], :, :].transpose(1, 2, 0)\n",
    "#         nx = state.cpu()[0, cdim_order].numpy().transpose(1, 2, 0)\n",
    "        nx = state[0, cdim_order[0], :, :].cpu().numpy()\n",
    "        # nx = state[0, [0, 1, -2], :, :]\n",
    "        # nx = np.stack([min_max(np.log10(1 + c)) for c in nx], axis=-1) * 255.\n",
    "        nx = nx * 255.\n",
    "\n",
    "        if time_ticking:\n",
    "            state = ca.forward(state)\n",
    "            ticker += 1\n",
    "            \n",
    "            if inject_webcam:\n",
    "                ret, frame = cap.read()\n",
    "                frame = cv2.resize(frame, None, fx=wbcam_fx, fy=wbcam_fy, interpolation=cv2.INTER_AREA)\n",
    "                frame = cv2.cvtColor(frame, cv2.COLOR_BGR2GRAY).transpose()\n",
    "                frame = torch.cuda.FloatTensor(frame) * img_norm * update_rate\n",
    "                state[0, 1, 0:frame.shape[0], 0:frame.shape[1]] = state[0, 1, 0:frame.shape[0], 0:frame.shape[1]] + frame\n",
    "                # state[0, 4, 0:frame.shape[0], 0:frame.shape[1]] = state[0, 4, 0:frame.shape[0], 0:frame.shape[1]] - 0.5 * frame\n",
    "                \n",
    "            if inject_img:\n",
    "                state[:, [1], ...] += (target_img.unsqueeze(0).unsqueeze(0) * inject_scale)\n",
    "                \n",
    "    \n",
    "        if sink and time_ticking:\n",
    "            xv, yv = torch.linspace(-1, 1, RESX), torch.linspace(-RESY/RESX, RESY/RESX, RESY)\n",
    "            X, Y = torch.meshgrid(xv, yv)\n",
    "            amp = 0.00\n",
    "            w = 30\n",
    "            R = torch.sqrt(X**2 + Y**2).cuda()\n",
    "            state = torch.where(R > 0.5, state - 0.5 * torch.ones_like(state).cuda(), state)\n",
    "\n",
    "        if export_imgs and time_ticking:\n",
    "            imgs.append(nx)\n",
    "            # imgs.append(state[0, [0, 1, 4, 5], ...].cpu().numpy())\n",
    "            \n",
    "        mat_draw = min_max(ca.rule.nearest_neighbours[0, 0].detach()).cpu().numpy()\n",
    "        connectivity_mat = pygame.transform.scale(pygame.surfarray.make_surface(mat_draw*255.), (50, 50))\n",
    "        \n",
    "\n",
    "        pygame.surfarray.blit_array(screen, nx)\n",
    "        frame = pygame.transform.scale(screen, (RESXup, RESYup))\n",
    "        upscaled_screen.blit(frame, frame.get_rect())\n",
    "        upscaled_screen.blit(update_fps(clock, font), (10,0))\n",
    "        upscaled_screen.blit(connectivity_mat, (RESX - 50,0))\n",
    "        pygame.display.flip()\n",
    "        clock.tick(60)\n",
    "        \n",
    "pygame.quit()\n"
   ]
  },
  {
   "cell_type": "code",
   "execution_count": 11,
   "id": "c00a189c-1a1c-4167-a94d-b7bf5885ba71",
   "metadata": {},
   "outputs": [
    {
     "data": {
      "image/png": "[encoded data removed]",
      "text/plain": [
       "<Figure size 432x288 with 2 Axes>"
      ]
     },
     "metadata": {
      "needs_background": "light"
     },
     "output_type": "display_data"
    }
   ],
   "source": [
    "plt.imshow(ca.rule.nearest_neighbours.detach().cpu().numpy()[0, 0]); plt.colorbar();"
   ]
  },
  {
   "cell_type": "code",
   "execution_count": 12,
   "id": "received-dietary",
   "metadata": {},
   "outputs": [
    {
     "data": {
      "text/plain": [
       "Text(0.5, 1.0, 'Energy')"
      ]
     },
     "execution_count": 12,
     "metadata": {},
     "output_type": "execute_result"
    },
    {
     "data": {
      "image/png": "[encoded data removed]",
      "text/plain": [
       "<Figure size 1296x432 with 6 Axes>"
      ]
     },
     "metadata": {
      "needs_background": "light"
     },
     "output_type": "display_data"
    }
   ],
   "source": [
    "fig, axes = plt.subplots(2, 3, figsize=(18, 6))\n",
    "axes = axes.flatten()\n",
    "\n",
    "axes[0].hist(state[0, 1].cpu().numpy().reshape(-1), 100);\n",
    "axes[0].set_title('Voltages')\n",
    "axes[1].hist(state[0, 0].cpu().numpy().reshape(-1), 100);\n",
    "axes[1].set_title('Spikes')\n",
    "axes[2].hist(state[0, 2].cpu().numpy().reshape(-1), 100);\n",
    "axes[2].set_title('Refractory time')\n",
    "\n",
    "axes[3].hist(state[0, 3].cpu().numpy().reshape(-1), 100)\n",
    "axes[3].set_title('Trace rate')\n",
    "axes[4].hist(state[0, 4].cpu().numpy().reshape(-1), 100)\n",
    "axes[4].set_title('Threshold')\n",
    "axes[5].hist(state[0, 5].cpu().numpy().reshape(-1), 100)\n",
    "axes[5].set_title('Energy')"
   ]
  },
  {
   "cell_type": "code",
   "execution_count": 13,
   "id": "classified-merit",
   "metadata": {},
   "outputs": [
    {
     "data": {
      "text/plain": [
       "(array([ 81785.,      0.,      0.,      0.,      0.,      0.,      0.,\n",
       "             0.,      0., 327815.]),\n",
       " array([-1.25 , -1.025, -0.8  , -0.575, -0.35 , -0.125,  0.1  ,  0.325,\n",
       "         0.55 ,  0.775,  1.   ], dtype=float32),\n",
       " <BarContainer object of 10 artists>)"
      ]
     },
     "execution_count": 13,
     "metadata": {},
     "output_type": "execute_result"
    },
    {
     "data": {
      "image/png": "[encoded data removed]",
      "text/plain": [
       "<Figure size 432x288 with 1 Axes>"
      ]
     },
     "metadata": {
      "needs_background": "light"
     },
     "output_type": "display_data"
    }
   ],
   "source": [
    "plt.hist(ca.rule.EI.cpu().numpy().reshape(-1))"
   ]
  },
  {
   "cell_type": "code",
   "execution_count": 14,
   "id": "e63027cc-fb7b-4c96-ab43-4e94671be338",
   "metadata": {},
   "outputs": [
    {
     "ename": "NameError",
     "evalue": "name 'xxx' is not defined",
     "output_type": "error",
     "traceback": [
      "\u001b[0;31m---------------------------------------------------------------------------\u001b[0m",
      "\u001b[0;31mNameError\u001b[0m                                 Traceback (most recent call last)",
      "Input \u001b[0;32mIn [14]\u001b[0m, in \u001b[0;36m<cell line: 1>\u001b[0;34m()\u001b[0m\n\u001b[0;32m----> 1\u001b[0m \u001b[43mxxx\u001b[49m\n",
      "\u001b[0;31mNameError\u001b[0m: name 'xxx' is not defined"
     ]
    }
   ],
   "source": [
    "xxx"
   ]
  },
  {
   "cell_type": "code",
   "execution_count": null,
   "id": "ongoing-productivity",
   "metadata": {
    "tags": []
   },
   "outputs": [],
   "source": [
    "fname = time.strftime(\"%Y%m%d-%H%M%S\")\n",
    "# out = cv2.VideoWriter(f'videos/CA-{fname}.avi',cv2.VideoWriter_fourcc(*'DIVX'), 60, (RESX, RESY), 3)\n",
    "out = cv2.VideoWriter(f'videos/CA-{fname}.mp4',cv2.VideoWriter_fourcc(*'MP4V'), 24, (RESX, RESY), 1)\n",
    "\n",
    "\n",
    "for img in imgs:\n",
    "    img = np.uint8(cv2.cvtColor(img[0], cv2.COLOR_RGB2BGR)*255.0).transpose(1, 0, 2)\n",
    "    out.write(img)\n",
    "out.release()"
   ]
  },
  {
   "cell_type": "code",
   "execution_count": null,
   "id": "b7bb8088-9e18-4638-bf93-7175ab4d3447",
   "metadata": {},
   "outputs": [],
   "source": [
    "np.uint8(cv2.cvtColor(img[0], cv2.COLOR_RGB2BGR)*255.0).transpose(0, 1, 2).shape"
   ]
  },
  {
   "cell_type": "code",
   "execution_count": null,
   "id": "a85d17b0-dde4-4df2-b045-d4794bfaa8da",
   "metadata": {
    "tags": []
   },
   "outputs": [],
   "source": [
    "window = 10\n",
    "for idx_start in np.arange(0, 400, 50):\n",
    "\n",
    "    plt.figure(figsize=(12, 12))\n",
    "    plt.imshow(np.mean(imgs[idx_start:idx_start + window], axis=0).transpose())\n",
    "    plt.axis('off')\n",
    "    \n",
    "    # plt.savefig(f'poster_figs/t_ginger_f{str(idx_start).zfill(3)}.png', dpi=300, bbox_inches='tight')\n",
    "    # plt.savefig(f'poster_figs/ginger_f{str(idx_start).zfill(3)}.png', dpi=300, bbox_inches='tight')\n",
    "    # plt.savefig(f'poster_figs/memory_ginger_f{str(idx_start).zfill(3)}.png', dpi=300, bbox_inches='tight')"
   ]
  },
  {
   "cell_type": "code",
   "execution_count": null,
   "id": "f9a3eb8e-1071-48ad-b3b1-8868ed2e2427",
   "metadata": {},
   "outputs": [],
   "source": [
    "ncol = 2\n",
    "nrow = 4\n",
    "fig, axes = plt.subplots(ncol, nrow, figsize=(nrow * 4, ncol * 4))\n",
    "\n",
    "skip = int(len(imgs) / len(axes.flatten()))\n",
    "for i, ax in enumerate(axes.flatten()):\n",
    "    idx = i * skip\n",
    "    ax.imshow(imgs[idx][0])\n",
    "    ax.set_xlabel(f't={idx}')\n",
    "    \n",
    "plt.tight_layout()"
   ]
  },
  {
   "cell_type": "code",
   "execution_count": null,
   "id": "4acd4d0f-65ac-4f33-ae2f-c696656c23b1",
   "metadata": {
    "tags": []
   },
   "outputs": [],
   "source": [
    "idx = 285\n",
    "window = 1\n",
    "\n",
    "\n",
    "plt.figure(figsize=(16, 5))\n",
    "\n",
    "params = {'axes.labelsize': 16,\n",
    "          'axes.titlesize': 24}\n",
    "plt.rcParams.update(params)\n",
    "\n",
    "plt.subplot(1, 4, 1)\n",
    "plt.imshow(np.mean(imgs[idx:idx + window], axis=0)[0].transpose())\n",
    "plt.title('Spikes')\n",
    "plt.axis('tight')\n",
    "plt.axis('scaled')\n",
    "plt.axis('off')\n",
    "\n",
    "plt.subplot(1, 4, 2)\n",
    "plt.imshow(np.mean(imgs[idx:idx + window], axis=0)[1].transpose())\n",
    "plt.title('Voltages')\n",
    "plt.axis('tight')\n",
    "plt.axis('scaled')\n",
    "plt.axis('off')\n",
    "\n",
    "plt.subplot(1, 4, 3)\n",
    "plt.imshow(np.mean(imgs[idx:idx + window], axis=0)[2].transpose())\n",
    "plt.title('Thresholds')\n",
    "plt.axis('tight')\n",
    "plt.axis('scaled')\n",
    "plt.axis('off')\n",
    "\n",
    "plt.subplot(1, 4, 4)\n",
    "plt.imshow(np.mean(imgs[idx:idx + window], axis=0)[3].transpose())\n",
    "plt.title('Energy')\n",
    "plt.axis('tight')\n",
    "plt.axis('scaled')\n",
    "plt.axis('off')\n",
    "\n",
    "\n",
    "plt.tight_layout()\n",
    "#plt.savefig('poster_figs/activity.pdf', bbox_inches='tight', dpi=300)\n",
    "plt.savefig('poster_figs/activity.png', bbox_inches='tight', dpi=300)"
   ]
  },
  {
   "cell_type": "code",
   "execution_count": null,
   "id": "0e82e55e-28bf-4f21-91da-ca8302ddbdd7",
   "metadata": {},
   "outputs": [],
   "source": [
    "num_examples = 500\n",
    "E_idxs = np.where((ca.rule.EI > 0.)[0, 0].reshape(-1).cpu().numpy())[0][0:num_examples]\n",
    "I_idxs = np.where((ca.rule.EI < 0.)[0, 0].reshape(-1).cpu().numpy())[0][0:num_examples//4]"
   ]
  },
  {
   "cell_type": "code",
   "execution_count": null,
   "id": "9390aa70-3a43-4b89-8698-b5a8a02aebfb",
   "metadata": {},
   "outputs": [],
   "source": [
    "raster_data_E = np.array(imgs).reshape(len(imgs), -1)[:, E_idxs].transpose()\n",
    "raster_data_I = np.array(imgs).reshape(len(imgs), -1)[:, I_idxs].transpose()\n",
    "st_E = [np.where(r) for r in raster_data_E]\n",
    "st_I = [np.where(r) for r in raster_data_I]\n",
    "ma_E = [img.reshape(-1)[E_idxs].mean() for img in imgs]\n",
    "ma_I = [-1*img.reshape(-1)[I_idxs].mean() for img in imgs]"
   ]
  },
  {
   "cell_type": "code",
   "execution_count": null,
   "id": "82313029-c8b1-46ba-aac7-f22de5402ed1",
   "metadata": {},
   "outputs": [],
   "source": [
    "def get_ISI_dist(S_e):\n",
    "    ISI_Cov = []\n",
    "    for s_t in np.transpose(S_e):\n",
    "        S = np.diff(np.where(s_t))[0]\n",
    "        ISI_Cov.append(np.std(S)/np.mean(S))\n",
    "    return np.array(ISI_Cov)\n",
    "\n",
    "CV_ISI_E = get_ISI_dist(raster_data_E.transpose())"
   ]
  },
  {
   "cell_type": "code",
   "execution_count": null,
   "id": "de10d96d-0c58-4afe-abdd-0830a46b969f",
   "metadata": {},
   "outputs": [],
   "source": [
    "#params = {'axes.labelsize': 16,\n",
    "#          'axes.titlesize': 24}\n",
    "params = {'font.size': 22,\n",
    "          'xtick.labelsize': 22,\n",
    "          'ytick.labelsize': 22}\n",
    "plt.rcParams.update(params)\n",
    "\n",
    "axd = plt.figure(constrained_layout=True, figsize=(16, 6)).subplot_mosaic(\n",
    "    \"\"\"\n",
    "    AAAD\n",
    "    AAAD\n",
    "    AAAC\n",
    "    BBBC\n",
    "    \"\"\"\n",
    ")\n",
    "\n",
    "def RGB(x, y, z):\n",
    "    return [x/255, y/255, z/255]\n",
    "\n",
    "def darker(c, a):\n",
    "    return [a*c_i for c_i in c]\n",
    "\n",
    "def fix_axis(ax):\n",
    "    # ax.set_xticks([])\n",
    "    # ax.set_xticklabels([])\n",
    "    ax.set_yticks([])\n",
    "    ax.set_yticklabels([])\n",
    "    ax.tick_params(axis='both', which='both', length=0)\n",
    "    for key, spine in ax.spines.items():\n",
    "        spine.set_visible(False)\n",
    "        \n",
    "our_red = RGB(215, 76, 94)\n",
    "our_blue = RGB(61, 139, 190)\n",
    "\n",
    "######## A ########\n",
    "for i in range(len(st_E)):\n",
    "    axd['A'].scatter(st_E[i][0], i * np.ones_like(st_E[i][0]), s=1, color=our_red)\n",
    "\n",
    "for i in range(len(st_I)):\n",
    "    axd['A'].scatter(st_I[i][0], -i * np.ones_like(st_I[i][0]), s=1, color=our_blue)\n",
    "\n",
    "axd['A'].set_ylabel('index')\n",
    "######## B ########\n",
    "        \n",
    "axd['B'].plot(ma_E, 'r', lw=2, alpha=0.75, c='k')\n",
    "axd['B'].set_xlabel('time (ms)')\n",
    "axd['B'].set_ylim([np.min(ma_E), np.max(ma_E)])\n",
    "\n",
    "######## C ########\n",
    "\n",
    "axd['C'].hist(CV_ISI_E, 25, density=True);\n",
    "axd['C'].set_xlabel('CV (ISI)')\n",
    "\n",
    "######## D ########\n",
    "\n",
    "axd['D'].hist(np.mean(raster_data_E, axis=0) * 60, 25,density=True);\n",
    "axd['D'].set_xlabel('Rates (Hz)')\n",
    "\n",
    "for ax in axd.keys():\n",
    "    fix_axis(axd[ax])\n",
    "\n",
    "plt.tight_layout()\n",
    "plt.savefig('poster_figs/network_dynamics.pdf', bbox_inches='tight', dpi=900, transparent=True)"
   ]
  },
  {
   "cell_type": "code",
   "execution_count": null,
   "id": "0bca3829-3770-4efb-b9ed-c266726d4eef",
   "metadata": {},
   "outputs": [],
   "source": []
  }
 ],
 "metadata": {
  "kernelspec": {
   "display_name": "Python 3 (ipykernel)",
   "language": "python",
   "name": "python3"
  },
  "language_info": {
   "codemirror_mode": {
    "name": "ipython",
    "version": 3
   },
   "file_extension": ".py",
   "mimetype": "text/x-python",
   "name": "python",
   "nbconvert_exporter": "python",
   "pygments_lexer": "ipython3",
   "version": "3.9.9"
  }
 },
 "nbformat": 4,
 "nbformat_minor": 5
}

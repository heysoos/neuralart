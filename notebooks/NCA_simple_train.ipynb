{
 "cells": [
  {
   "cell_type": "code",
   "execution_count": 1,
   "metadata": {
    "collapsed": true
   },
   "outputs": [
    {
     "name": "stderr",
     "output_type": "stream",
     "text": [
      "C:\\Users\\Heysoos\\anaconda3\\envs\\torchstuff\\lib\\site-packages\\tqdm\\auto.py:22: TqdmWarning: IProgress not found. Please update jupyter and ipywidgets. See https://ipywidgets.readthedocs.io/en/stable/user_install.html\n",
      "  from .autonotebook import tqdm as notebook_tqdm\n"
     ]
    },
    {
     "name": "stdout",
     "output_type": "stream",
     "text": [
      "pygame 2.1.2 (SDL 2.0.18, Python 3.9.15)\n",
      "Hello from the pygame community. https://www.pygame.org/contribute.html\n"
     ]
    }
   ],
   "source": [
    "import numpy as np\n",
    "import matplotlib.pyplot as plt\n",
    "\n",
    "import torch\n",
    "import torch.nn as nn\n",
    "import torch.nn.functional as F\n",
    "\n",
    "from PIL import Image\n",
    "from skimage.color import rgba2rgb\n",
    "import cv2\n",
    "from IPython.display import display, clear_output\n",
    "from math import *\n",
    "import time\n",
    "\n",
    "from os import makedirs, path\n",
    "from copy import deepcopy\n",
    "\n",
    "from tqdm import tqdm\n",
    "\n",
    "import pygame"
   ]
  },
  {
   "cell_type": "code",
   "execution_count": 2,
   "outputs": [],
   "source": [
    "# brush properties\n",
    "r = 20\n",
    "s = 1\n",
    "\n",
    "def LMB_make(state, r=5, s=1):\n",
    "    '''\n",
    "    left click to make\n",
    "    r: radius of brush\n",
    "    s: smoothing / sigma\n",
    "    '''\n",
    "    xcl, ycl = pygame.mouse.get_pos()\n",
    "    xcl, ycl = int(xcl/UPSCALE), int(ycl/UPSCALE)\n",
    "\n",
    "    # radial blur\n",
    "    xm, ym = torch.meshgrid(torch.linspace(-1, 1, 2*r), torch.linspace(-1, 1, 2*r))\n",
    "    rm = torch.sqrt(xm**2 + ym**2).type(torch.double)\n",
    "    blur = torch.exp(-rm**2 / s**2)\n",
    "    blur = torch.where(rm <= 1., blur, 0.) # circular mask\n",
    "\n",
    "    xslice = range(xcl - r, xcl + r)\n",
    "    yslice = range(ycl - r, ycl + r)\n",
    "    for count_i, i in enumerate(xslice):\n",
    "        for count_j, j in enumerate(yslice):\n",
    "            i = i % RESX\n",
    "            j = j % RESY\n",
    "            state[:, 1, i, j] = state[:, 1, i, j] + 5.\n",
    "    return state\n",
    "\n",
    "\n",
    "def RMB_del(state, r=5, s=1):\n",
    "    '''\n",
    "    right click to erase\n",
    "    r: radius of eraser\n",
    "    s: smoothing / sigma\n",
    "    '''\n",
    "    xcl, ycl = pygame.mouse.get_pos()\n",
    "    xcl, ycl = int(xcl/UPSCALE), int(ycl/UPSCALE)\n",
    "\n",
    "    # radial blur\n",
    "    xm, ym = torch.meshgrid(torch.linspace(-1, 1, 2*r), torch.linspace(-1, 1, 2*r))\n",
    "    rm = torch.sqrt(xm**2 + ym**2).type(torch.double)\n",
    "    blur = (1 - torch.exp(-rm**2 / s**2))\n",
    "    blur = torch.where(rm <= 1., blur, 1.) # circular mask\n",
    "\n",
    "    xslice = range(xcl - r, xcl + r)\n",
    "    yslice = range(ycl - r, ycl + r)\n",
    "    for count_i, i in enumerate(xslice):\n",
    "        for count_j, j in enumerate(yslice):\n",
    "            i = i % RESX\n",
    "            j = j % RESY\n",
    "            state[:, 1, i, j] = state[:, 1, i, j] - 0.2\n",
    "    return state\n",
    "\n",
    "def WHEEL_permute(cdim_order, direction):\n",
    "    cdim_order = np.mod(np.add(cdim_order, direction), len(cdim_order))\n",
    "\n",
    "    return cdim_order\n",
    "\n",
    "def min_max(mat):\n",
    "    return (mat - mat.min()) / (mat.max() - mat.min())"
   ],
   "metadata": {
    "collapsed": false
   }
  },
  {
   "cell_type": "code",
   "execution_count": 3,
   "outputs": [],
   "source": [
    "class Rule(nn.Module):\n",
    "    def __init__(self, CHANNELS=8, FILTERS=1, HIDDEN=16, RADIUS=2):\n",
    "        super().__init__()\n",
    "        self.channels = CHANNELS\n",
    "        self.filters = FILTERS\n",
    "        self.hidden = HIDDEN\n",
    "\n",
    "        Rk = RADIUS * 2 + 1\n",
    "        # for forward_perception\n",
    "        self.ident = torch.tensor([[0.0, 0.0, 0.0], [0.0, 1.0, 0.0], [0.0, 0.0, 0.0]]).cuda()\n",
    "        self.sobel_x = torch.tensor([[-1.0, 0.0, 1.0], [-2.0, 0.0, 2.0], [-1.0, 0.0, 1.0]]).cuda() / 8.0\n",
    "        self.lap = torch.tensor([[1.0, 2.0, 1.0], [2.0, -12, 2.0], [1.0, 2.0, 1.0]]).cuda() / 16.0\n",
    "\n",
    "        self.filters = [nn.Parameter(torch.randn(3, 3).cuda())\n",
    "                        for i in range(2)]\n",
    "\n",
    "        self.w1 = torch.nn.Conv2d(CHANNELS * 4, HIDDEN, 1)\n",
    "        self.w1.bias.data.zero_()\n",
    "        self.w2 = torch.nn.Conv2d(HIDDEN, CHANNELS, 1, bias=False)\n",
    "        # self.w2.weight.data.zero_()\n",
    "        ###########################################\n",
    "\n",
    "class CA(nn.Module):\n",
    "    def __init__(self, CHANNELS=8, FILTERS=1, HIDDEN=16, RADIUS=2):\n",
    "        super().__init__()\n",
    "        self.channels = CHANNELS\n",
    "        self.filters = FILTERS\n",
    "        self.hidden = HIDDEN\n",
    "        self.radius = RADIUS\n",
    "\n",
    "\n",
    "        self.rule = Rule(CHANNELS, FILTERS, HIDDEN, RADIUS)\n",
    "        self.optim = torch.optim.Adam(self.parameters(), lr=1e-3)\n",
    "\n",
    "    def initGrid(self, BS, RES):\n",
    "        return torch.cuda.FloatTensor(2 * np.random.rand(BS, self.channels, RES, RES) - 1)\n",
    "\n",
    "    def seed(self, RES, n):\n",
    "        seed = torch.FloatTensor(np.zeros((n, self.channels, RES, RES)))\n",
    "        # seed[:, 3:, RES // 2, RES // 2] = 1\n",
    "        return seed\n",
    "\n",
    "    def perchannel_conv(self, x, filters):\n",
    "        '''filters: [filter_n, h, w]'''\n",
    "        b, ch, h, w = x.shape\n",
    "        y = x.reshape(b * ch, 1, h, w)\n",
    "        y = torch.nn.functional.pad(y, [1, 1, 1, 1], 'circular')\n",
    "        y = torch.nn.functional.conv2d(y, filters[:, None])\n",
    "        return y.reshape(b, -1, h, w)\n",
    "\n",
    "    def perchannel_conv_g(self, x, filters):\n",
    "        '''filters: [filter_n, h, w]'''\n",
    "        b, ch, h, w = x.shape\n",
    "        Rx = int((filters.shape[-2] - 1)/2)\n",
    "        Ry = int((filters.shape[-1] - 1)/2)\n",
    "        y = x.reshape(b * ch, 1, h, w)\n",
    "        y = torch.nn.functional.pad(y, [Rx, Rx, Ry, Ry], 'circular')\n",
    "        y = torch.nn.functional.conv2d(y, filters[:, None])\n",
    "        return y.reshape(b, -1, h, w)\n",
    "\n",
    "    def perception(self, x):\n",
    "        # filters = torch.stack([self.rule.ident, self.rule.sobel_x, self.rule.sobel_x.T, self.rule.lap])\n",
    "        filters = [self.rule.ident, self.rule.sobel_x, self.rule.sobel_x.T, self.rule.lap]\n",
    "        # custom kernels required to be the same size as the hard-coded filters for now to work\n",
    "        # totalistic_filters = [totalistic(f, dim2=True) for f in self.rule.filters]\n",
    "        # filters = torch.stack(filters + totalistic_filters)\n",
    "        return self.perchannel_conv(x, torch.stack(filters))\n",
    "\n",
    "    def forward(self, x, dt=1, update_rate=0.5):\n",
    "        b, ch, h, w = x.shape\n",
    "        y = self.perception(x)\n",
    "\n",
    "        y = torch.relu(self.rule.w1(y))\n",
    "        y = self.rule.w2(y)\n",
    "\n",
    "        update_mask = (torch.rand(b, 1, h, w) + update_rate).floor().cuda()\n",
    "        y = dt * y * update_mask\n",
    "        res = torch.clamp(x + y, 0, 1)\n",
    "        return res"
   ],
   "metadata": {
    "collapsed": false
   }
  },
  {
   "cell_type": "code",
   "execution_count": 4,
   "outputs": [],
   "source": [
    "CHANNELS=8\n",
    "FILTERS=1\n",
    "HIDDEN=16\n",
    "\n",
    "ca = CA(CHANNELS=CHANNELS, FILTERS=FILTERS, HIDDEN=HIDDEN).cuda()"
   ],
   "metadata": {
    "collapsed": false
   }
  },
  {
   "cell_type": "markdown",
   "source": [
    "# Training"
   ],
   "metadata": {
    "collapsed": false
   }
  },
  {
   "cell_type": "markdown",
   "source": [
    "Let's first try to train the model such that it has a large variance in space at the final time point in each individual channel. Right now, random models tend to converge to some saturation point."
   ],
   "metadata": {
    "collapsed": false
   }
  },
  {
   "cell_type": "code",
   "execution_count": 5,
   "outputs": [],
   "source": [
    "def spatial_diversity(state):\n",
    "    # computes the spatial variation in each channel and averages\n",
    "    shape = state.shape\n",
    "    loss = state.reshape(shape[0], shape[1], -1).std(dim=-1).mean()\n",
    "    return -loss\n",
    "\n",
    "def spatial_diversity_diversity(state):\n",
    "    # computes the spatial variation in each channel and takes the variation of this\n",
    "    shape = state.shape\n",
    "    loss = state.reshape(shape[0], shape[1], -1).std(dim=-1).std()\n",
    "    return -loss\n",
    "\n",
    "def mean_rate(state_t, target=0.5):\n",
    "    # returns the distance to the target rate for each pixel and channel and averages\n",
    "    return (state_t.mean(dim=0) - target).abs().mean()\n",
    "\n",
    "criterion = mean_rate"
   ],
   "metadata": {
    "collapsed": false
   }
  },
  {
   "cell_type": "code",
   "execution_count": 6,
   "outputs": [
    {
     "name": "stdout",
     "output_type": "stream",
     "text": [
      "Epoch: 1/250, Loss: 0.3770706355571747\n",
      "Epoch: 51/250, Loss: 0.1664763242006302\n",
      "Epoch: 101/250, Loss: 0.08242210745811462\n",
      "Epoch: 151/250, Loss: 0.05222797766327858\n",
      "Epoch: 201/250, Loss: 0.0408632755279541\n"
     ]
    }
   ],
   "source": [
    "batch_size = 16\n",
    "RES = 50\n",
    "\n",
    "num_epochs = 250\n",
    "min_T, max_T = 50, 95\n",
    "\n",
    "loss_hist = []\n",
    "for i in range(num_epochs):\n",
    "    ca.optim.zero_grad()\n",
    "\n",
    "    state = ca.initGrid(BS=batch_size, RES=RES)\n",
    "    state_t = []\n",
    "    for t in range(np.random.randint(min_T, max_T)):\n",
    "        state = ca(state)\n",
    "        state_t.append(state)\n",
    "    state_t = torch.stack(state_t)\n",
    "\n",
    "    loss = criterion(state_t)\n",
    "    loss_hist.append(loss.item())\n",
    "    loss.backward()\n",
    "    ca.optim.step()\n",
    "\n",
    "    if i % 50 == 0:\n",
    "        print(f'Epoch: {i+1}/{num_epochs}, Loss: {loss_hist[-1]}')\n"
   ],
   "metadata": {
    "collapsed": false
   }
  },
  {
   "cell_type": "markdown",
   "source": [
    "# Visualize in PyGame"
   ],
   "metadata": {
    "collapsed": false
   }
  },
  {
   "cell_type": "code",
   "execution_count": 13,
   "outputs": [],
   "source": [
    "# pygame stuff\n",
    "######################################\n",
    "RES = 250\n",
    "RESX, RESY = RES, RES\n",
    "state = ca.initGrid(1, RES)\n",
    "\n",
    "pygame.init()\n",
    "size = RESX, RESY\n",
    "\n",
    "win = pygame.display.set_mode((RESX, RESY))\n",
    "\n",
    "screen = pygame.Surface(size)\n",
    "UPSCALE = 3\n",
    "RESXup, RESYup = int(RESX*UPSCALE), int(RESY*UPSCALE)\n",
    "upscaled_screen = pygame.display.set_mode([RESXup, RESYup])\n",
    "\n",
    "\n",
    "running = True\n",
    "time_ticking = True\n",
    "LMB_trigger = False\n",
    "RMB_trigger = False\n",
    "WHEEL_trigger = False\n",
    "cdim_order = np.arange(0, state.shape[1])\n",
    "\n",
    "clock = pygame.time.Clock()\n",
    "font_h = pygame.font.SysFont(\"Noto Sans\", 24)\n",
    "font = pygame.font.SysFont(\"Noto Sans\", 12)\n",
    "def update_fps(clock, font):\n",
    "    fps = str(int(clock.get_fps()))\n",
    "    fps_text = font.render(fps, 1, pygame.Color(\"white\"))\n",
    "    fps_bg = pygame.Surface((fps_text.get_height(),fps_text.get_width()))  # the size of your rect\n",
    "    fps_bg.set_alpha(50)                # alpha level\n",
    "    fps_bg.fill((255,255,255))           # this fills the entire surface\n",
    "\n",
    "    fps_surf = pygame.Surface((fps_bg.get_height(), fps_bg.get_width()))\n",
    "    fps_surf.blit(fps_bg, (0, 0))\n",
    "    fps_surf.blit(fps_text, (0, 0))\n",
    "    return fps_surf\n",
    "######################################\n",
    "\n",
    "\n",
    "update_rate = 1.\n",
    "ticker = 0.\n",
    "\n",
    "export_imgs = False\n",
    "imgs = []\n",
    "\n",
    "with torch.no_grad():\n",
    "    while running:\n",
    "        for event in pygame.event.get():\n",
    "            if event.type == pygame.QUIT:\n",
    "                running = False\n",
    "\n",
    "            if event.type == pygame.MOUSEBUTTONDOWN:\n",
    "                if event.button == 1:\n",
    "                    LMB_trigger = True\n",
    "                if event.button == 3:\n",
    "                    RMB_trigger = True\n",
    "            if event.type == pygame.MOUSEBUTTONUP:\n",
    "                if event.button == 1:\n",
    "                    LMB_trigger = False\n",
    "                if event.button == 3:\n",
    "                    RMB_trigger = False\n",
    "\n",
    "            if event.type == pygame.MOUSEWHEEL:\n",
    "                WHEEL_trigger = True\n",
    "                direction = -event.y\n",
    "\n",
    "            if event.type == pygame.MOUSEBUTTONUP and event.button == 2:\n",
    "                # scroll through channel dims\n",
    "                cdim_order = np.arange(0, state.shape[1] + 1)\n",
    "            if event.type == pygame.KEYDOWN and event.key == pygame.K_e:\n",
    "                export_imgs = not export_imgs\n",
    "            if event.type == pygame.KEYDOWN and event.key == pygame.K_p:\n",
    "                # pause/toggle time\n",
    "                time_ticking = not time_ticking\n",
    "\n",
    "            if event.type == pygame.KEYDOWN and event.key == pygame.K_r:\n",
    "                # start from seed\n",
    "                state = ca.initGrid(BS=1, RES=RES)\n",
    "\n",
    "        mouse_pos = pygame.mouse.get_pos()\n",
    "        if LMB_trigger:\n",
    "            state = LMB_make(state, r=r, s=s)\n",
    "        if RMB_trigger:\n",
    "            state = RMB_del(state, r=r, s=s)\n",
    "\n",
    "        if WHEEL_trigger:\n",
    "            cdim_order = WHEEL_permute(cdim_order, direction)\n",
    "            WHEEL_trigger = False\n",
    "\n",
    "        nx = state[0, cdim_order[0], :, :].cpu().numpy()\n",
    "        nx = min_max(state[0, cdim_order[0:3], :, :].cpu().numpy().transpose(1, 2, 0))\n",
    "        nx = nx * 255.\n",
    "\n",
    "        if time_ticking:\n",
    "            state = ca.forward(state)\n",
    "            ticker += 1\n",
    "\n",
    "            if export_imgs:\n",
    "                imgs.append(nx)\n",
    "\n",
    "        pygame.surfarray.blit_array(screen, nx)\n",
    "        frame = pygame.transform.scale(screen, (RESXup, RESYup))\n",
    "\n",
    "        upscaled_screen.blit(frame, frame.get_rect())\n",
    "        upscaled_screen.blit(update_fps(clock, font), (10,0))\n",
    "\n",
    "        pygame.display.flip()\n",
    "        clock.tick(120)\n",
    "\n",
    "pygame.quit()\n"
   ],
   "metadata": {
    "collapsed": false
   }
  },
  {
   "cell_type": "code",
   "execution_count": 10,
   "outputs": [
    {
     "data": {
      "text/plain": "(array([65778., 24873., 24915., 29935., 49292., 61029., 83380., 36795.,\n        26211., 97792.]),\n array([0. , 0.1, 0.2, 0.3, 0.4, 0.5, 0.6, 0.7, 0.8, 0.9, 1. ],\n       dtype=float32),\n <BarContainer object of 10 artists>)"
     },
     "execution_count": 10,
     "metadata": {},
     "output_type": "execute_result"
    },
    {
     "data": {
      "text/plain": "<Figure size 640x480 with 1 Axes>",
      "image/png": "[encoded data removed]"
     },
     "metadata": {},
     "output_type": "display_data"
    }
   ],
   "source": [
    "plt.hist(state.reshape(-1).cpu())"
   ],
   "metadata": {
    "collapsed": false
   }
  }
 ],
 "metadata": {
  "kernelspec": {
   "display_name": "Python 3",
   "language": "python",
   "name": "python3"
  },
  "language_info": {
   "codemirror_mode": {
    "name": "ipython",
    "version": 2
   },
   "file_extension": ".py",
   "mimetype": "text/x-python",
   "name": "python",
   "nbconvert_exporter": "python",
   "pygments_lexer": "ipython2",
   "version": "2.7.6"
  }
 },
 "nbformat": 4,
 "nbformat_minor": 0
}

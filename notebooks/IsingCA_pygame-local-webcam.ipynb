{
 "cells": [
  {
   "cell_type": "code",
   "execution_count": 1,
   "id": "practical-estonia",
   "metadata": {
    "pycharm": {
     "is_executing": true
    }
   },
   "outputs": [
    {
     "name": "stderr",
     "output_type": "stream",
     "text": [
      "C:\\Users\\Heysoos\\anaconda3\\envs\\torchstuff\\lib\\site-packages\\tqdm\\auto.py:22: TqdmWarning: IProgress not found. Please update jupyter and ipywidgets. See https://ipywidgets.readthedocs.io/en/stable/user_install.html\n",
      "  from .autonotebook import tqdm as notebook_tqdm\n"
     ]
    },
    {
     "name": "stdout",
     "output_type": "stream",
     "text": [
      "pygame 2.1.2 (SDL 2.0.18, Python 3.9.15)\n",
      "Hello from the pygame community. https://www.pygame.org/contribute.html\n"
     ]
    }
   ],
   "source": [
    "import numpy as np\n",
    "import matplotlib.pyplot as plt\n",
    "\n",
    "import torch\n",
    "import torch.nn as nn\n",
    "import torch.nn.functional as F\n",
    "from torchvision import models\n",
    "# from torch.utils.tensorboard import SummaryWriter\n",
    "\n",
    "from PIL import Image\n",
    "from skimage.color import rgba2rgb\n",
    "import cv2\n",
    "from IPython.display import display, clear_output\n",
    "from math import *\n",
    "import time\n",
    "\n",
    "from os import makedirs, path\n",
    "from copy import deepcopy\n",
    "\n",
    "from tqdm import tqdm\n",
    "\n",
    "from isingCA_local_h import isingCA\n",
    "import pygame"
   ]
  },
  {
   "cell_type": "code",
   "execution_count": 2,
   "id": "adapted-session",
   "metadata": {},
   "outputs": [],
   "source": [
    "from itertools import product\n",
    "\n",
    "# toggle the brush between two modes (shortcut B)\n",
    "BRUSH_TOGGLE = False\n",
    "\n",
    "def LMB_make(state, r=5, s=1):\n",
    "    '''\n",
    "    left click to make\n",
    "    r: radius of brush\n",
    "    s: smoothing / sigma\n",
    "    '''\n",
    "    xcl, ycl = pygame.mouse.get_pos()\n",
    "    xcl, ycl = int(xcl/UPSCALE), int(ycl/UPSCALE)\n",
    "    \n",
    "     # radial blur\n",
    "    xm, ym = torch.meshgrid(torch.linspace(-1, 1, 2*r), torch.linspace(-1, 1, 2*r))\n",
    "    rm = torch.sqrt(xm**2 + ym**2).type(torch.double)\n",
    "    blur = torch.exp(-rm**2 / s**2)\n",
    "    blur = torch.where(rm <= 1., blur, 0.) # circular mask\n",
    "    \n",
    "    # doesn't do periodic boundaries\n",
    "    # state[:, 1, xcl - r:xcl + r, ycl - r : ycl + r] -= (blur.cuda() + 1e-6) \n",
    "    \n",
    "    range_x = range(xcl - r, xcl + r)\n",
    "    range_y = range(ycl - r, ycl + r)\n",
    "    coords = list(product(range_x, range_y))\n",
    "    idx_i = [c[0] % RESX for c in coords]\n",
    "    idx_j = [c[1] % RESY for c in coords]\n",
    "    \n",
    "    if BRUSH_TOGGLE:\n",
    "        state[:, 1, idx_i, idx_j] -= (blur.reshape(-1).cuda() + 1e-6) # change temp\n",
    "    else:\n",
    "        state[:, 0, idx_i, idx_j] = torch.where(rm.reshape(-1).cuda() <= 1.,\n",
    "                                                1.,\n",
    "                                                state[:, 0, idx_i, idx_j]\n",
    "                                               )\n",
    "    \n",
    "    state[0, 1] = torch.clip(state[0, 1], 1e-6)\n",
    "\n",
    "    return state\n",
    "    \n",
    "    \n",
    "def RMB_del(state, r=5, s=1):\n",
    "    '''\n",
    "    right click to erase\n",
    "    r: radius of eraser\n",
    "    s: smoothing / sigma\n",
    "    '''\n",
    "    xcl, ycl = pygame.mouse.get_pos()\n",
    "    xcl, ycl = int(xcl/UPSCALE), int(ycl/UPSCALE)\n",
    "    \n",
    "    # radial blur\n",
    "    xm, ym = torch.meshgrid(torch.linspace(-1, 1, 2*r), torch.linspace(-1, 1, 2*r))\n",
    "    rm = torch.sqrt(xm**2 + ym**2).type(torch.double)\n",
    "    blur = torch.exp(-rm**2 / s**2)\n",
    "    blur = torch.where(rm <= 1., blur, 0.) # circular mask\n",
    "    \n",
    "    range_x = range(xcl - r, xcl + r)\n",
    "    range_y = range(ycl - r, ycl + r)\n",
    "    coords = list(product(range_x, range_y))\n",
    "    idx_i = [c[0] % RESX for c in coords]\n",
    "    idx_j = [c[1] % RESY for c in coords]\n",
    "    if BRUSH_TOGGLE:\n",
    "        state[:, 1, idx_i, idx_j] += blur.reshape(-1).cuda()\n",
    "    else:\n",
    "        state[:, 0, idx_i, idx_j] = torch.where(rm.reshape(-1).cuda() <= 1.,\n",
    "                                                -1.,\n",
    "                                                state[:, 0, idx_i, idx_j]\n",
    "                                               )\n",
    "    \n",
    "    return state\n",
    "\n",
    "def WHEEL_permute(cdim_order, direction):\n",
    "    cdim_order = np.mod(np.add(cdim_order, direction), CHANNELS)\n",
    "    \n",
    "    return cdim_order\n",
    "    \n",
    "def WHEEL_beta(beta, direction):\n",
    "    \n",
    "    return beta + direction * 0.01\n",
    "\n",
    "def min_max(x):\n",
    "    return (x - x.min()) / (x.max() - x.min())"
   ]
  },
  {
   "cell_type": "code",
   "execution_count": 3,
   "id": "leading-desperate",
   "metadata": {},
   "outputs": [],
   "source": [
    "def print_beta(beta):\n",
    "    fps = f'{beta:.3f}'\n",
    "    fps_text = font.render(fps, 1, pygame.Color(\"white\"))\n",
    "    fps_bg = pygame.Surface((fps_text.get_height(),fps_text.get_width()))  # the size of your rect\n",
    "    fps_bg.set_alpha(50)                # alpha level\n",
    "    fps_bg.fill((255,255,255))           # this fills the entire surface\n",
    "\n",
    "    fps_surf = pygame.Surface((fps_bg.get_height(), fps_bg.get_width()))\n",
    "    fps_surf.blit(fps_bg, (0, 0))\n",
    "    fps_surf.blit(fps_text, (0, 0))\n",
    "    return fps_surf"
   ]
  },
  {
   "cell_type": "markdown",
   "id": "6af1d66e",
   "metadata": {},
   "source": [
    "### Init Webcam"
   ]
  },
  {
   "cell_type": "code",
   "execution_count": 4,
   "id": "04f4a600",
   "metadata": {},
   "outputs": [],
   "source": [
    "cap = cv2.VideoCapture(0)\n",
    "\n",
    "# Check if the webcam is opened correctly\n",
    "if not cap.isOpened():\n",
    "    raise IOError(\"Cannot open webcam\")\n"
   ]
  },
  {
   "cell_type": "code",
   "execution_count": 5,
   "id": "804ca881",
   "metadata": {},
   "outputs": [],
   "source": [
    "ret, web_frame = cap.read()\n",
    "web_frame = cv2.resize(web_frame, None, fx=1, fy=1, interpolation=cv2.INTER_AREA)\n",
    "web_frame = cv2.cvtColor(web_frame, cv2.COLOR_BGR2GRAY)"
   ]
  },
  {
   "cell_type": "markdown",
   "id": "exact-irish",
   "metadata": {
    "tags": []
   },
   "source": [
    "# Init model"
   ]
  },
  {
   "cell_type": "code",
   "execution_count": 6,
   "id": "saved-bolivia",
   "metadata": {
    "tags": []
   },
   "outputs": [
    {
     "name": "stderr",
     "output_type": "stream",
     "text": [
      "C:\\Users\\Heysoos\\anaconda3\\envs\\torchstuff\\lib\\site-packages\\torch\\functional.py:504: UserWarning: torch.meshgrid: in an upcoming release, it will be required to pass the indexing argument. (Triggered internally at C:\\cb\\pytorch_1000000000000\\work\\aten\\src\\ATen\\native\\TensorShape.cpp:3191.)\n",
      "  return _VF.meshgrid(tensors, **kwargs)  # type: ignore[attr-defined]\n"
     ]
    }
   ],
   "source": [
    "CHANNELS=1 # number of channels in grid\n",
    "RADIUS=1\n",
    "BETA=1/(RADIUS * RADIUS * CHANNELS)\n",
    "ca = isingCA(CHANNELS=CHANNELS, BETA=BETA, RADIUS=RADIUS).cuda() "
   ]
  },
  {
   "cell_type": "code",
   "execution_count": 7,
   "id": "standing-arthritis",
   "metadata": {},
   "outputs": [
    {
     "data": {
      "image/png": "[encoded data removed]",
      "text/plain": [
       "<Figure size 500x500 with 1 Axes>"
      ]
     },
     "metadata": {},
     "output_type": "display_data"
    }
   ],
   "source": [
    "kernels = torch.cat([k for k in ca.rule.nearest_neighbours], dim=0).cpu().detach().numpy()\n",
    "# kernels = totalistic(ca.rule.kernels[0].cpu().detach()).numpy()\n",
    "\n",
    "num_plot_kernels = np.min([6, CHANNELS])\n",
    "fig, axes = plt.subplots(1, num_plot_kernels, figsize=(5, 5))\n",
    "\n",
    "if CHANNELS == 1:\n",
    "    kplot = kernels[0, :, :]\n",
    "    kmax = np.max(np.abs(kplot))\n",
    "    axes.imshow(kplot, vmin=-kmax, vmax=kmax)\n",
    "    axes.axis('off')\n",
    "    \n",
    "else:\n",
    "    for j in range(num_plot_kernels):\n",
    "        kplot = kernels[j, :, :]\n",
    "        kmax = np.max(np.abs(kplot))\n",
    "        axes[j].imshow(kplot, vmin=-kmax, vmax=kmax)\n",
    "        axes[j].axis('off')"
   ]
  },
  {
   "cell_type": "code",
   "execution_count": 16,
   "id": "automatic-wonder",
   "metadata": {
    "tags": []
   },
   "outputs": [],
   "source": [
    "# resolution of grid\n",
    "RESX=480\n",
    "RESY=480\n",
    "\n",
    "# brush properties\n",
    "r = RESX//20\n",
    "s = 0.1\n",
    "\n",
    "# pygame stuff\n",
    "######################################\n",
    "pygame.init()\n",
    "size = RESX, RESY\n",
    "# screen = pygame.display.set_mode(size)\n",
    "screen = pygame.Surface(size)\n",
    "UPSCALE = 2\n",
    "RESXup, RESYup = int(RESX*UPSCALE), int(RESY*UPSCALE)\n",
    "upscaled_screen = pygame.display.set_mode([RESXup, RESYup])\n",
    "\n",
    "running = True\n",
    "time_ticking = True\n",
    "self_organize = False\n",
    "LMB_trigger = False\n",
    "RMB_trigger = False\n",
    "WHEEL_trigger = False\n",
    "cdim_order = np.arange(0, CHANNELS)\n",
    "beta = BETA\n",
    "\n",
    "clock = pygame.time.Clock()\n",
    "font = pygame.font.SysFont(\"Noto Sans\", 12)\n",
    "def update_fps(clock, font):\n",
    "    fps = str(int(clock.get_fps()))\n",
    "    fps_text = font.render(fps, 1, pygame.Color(\"white\"))\n",
    "    fps_bg = pygame.Surface((fps_text.get_height(),fps_text.get_width()))  # the size of your rect\n",
    "    fps_bg.set_alpha(50)                # alpha level\n",
    "    fps_bg.fill((255,255,255))           # this fills the entire surface\n",
    "\n",
    "    fps_surf = pygame.Surface((fps_bg.get_height(), fps_bg.get_width()))\n",
    "    fps_surf.blit(fps_bg, (0, 0))\n",
    "    fps_surf.blit(fps_text, (0, 0))\n",
    "    return fps_surf\n",
    "######################################\n",
    "\n",
    "# CENTER SEED\n",
    "# seed = torch.cuda.FloatTensor(np.zeros((CHANNELS, RESX, RESY))).unsqueeze(0)\n",
    "# seed[:, 3:, RESX//2, RESY//2] = 1\n",
    "# state = seed.clone()\n",
    "\n",
    "state = ca.initGrid((RESX, RESY))\n",
    "\n",
    "# webcam stuff\n",
    "######################################\n",
    "ret, web_frame = cap.read()\n",
    "web_frame = cv2.resize(web_frame, None, fx=1, fy=1, interpolation=cv2.INTER_AREA)\n",
    "web_frame = cv2.cvtColor(web_frame, cv2.COLOR_BGR2GRAY)\n",
    "\n",
    "inject_webcam = False\n",
    "wbcam_fx = RESX / web_frame.shape[1]\n",
    "wbcam_fy = RESY / web_frame.shape[0]\n",
    "\n",
    "\n",
    "update_rate = 1.\n",
    "ticker = 0.\n",
    "sink = False\n",
    "export_imgs = False\n",
    "imgs = []\n",
    "\n",
    "with torch.no_grad():\n",
    "    while running:              \n",
    "        for event in pygame.event.get():\n",
    "            if event.type == pygame.QUIT:\n",
    "                running = False\n",
    "                \n",
    "            if event.type == pygame.MOUSEBUTTONDOWN:\n",
    "                if event.button == 1:\n",
    "                    LMB_trigger = True\n",
    "                if event.button == 3:\n",
    "                    RMB_trigger = True\n",
    "            if event.type == pygame.MOUSEBUTTONUP:\n",
    "                if event.button == 1:\n",
    "                    LMB_trigger = False\n",
    "                if event.button == 3:\n",
    "                    RMB_trigger = False\n",
    "                    \n",
    "            if event.type == pygame.MOUSEWHEEL:\n",
    "                WHEEL_trigger = True\n",
    "                direction = event.y\n",
    "                \n",
    "            if event.type == pygame.KEYDOWN and event.key == pygame.K_LEFTBRACKET:\n",
    "                update_rate += -0.5\n",
    "            if event.type== pygame.KEYDOWN and event.key == pygame.K_RIGHTBRACKET:\n",
    "                update_rate += 0.5\n",
    "            \n",
    "            if event.type == pygame.MOUSEBUTTONUP and event.button == 2:\n",
    "                # scroll through channel dims\n",
    "                cdim_order = np.arange(0, state.shape[1])\n",
    "            if event.type == pygame.KEYDOWN and event.key == pygame.K_w:\n",
    "                inject_webcam = not inject_webcam\n",
    "            if event.type == pygame.KEYDOWN and event.key == pygame.K_o:\n",
    "                ca.rule.temp_adapt = not ca.rule.temp_adapt\n",
    "            if event.type == pygame.KEYDOWN and event.key == pygame.K_b:\n",
    "                BRUSH_TOGGLE = not BRUSH_TOGGLE\n",
    "        \n",
    "            if event.type == pygame.KEYDOWN and event.key == pygame.K_s:\n",
    "                sink = not sink\n",
    "            if event.type == pygame.KEYDOWN and event.key == pygame.K_e:\n",
    "                export_imgs = not export_imgs\n",
    "            if event.type == pygame.KEYDOWN and event.key == pygame.K_p:\n",
    "                # pause/toggle time\n",
    "                time_ticking = not time_ticking\n",
    "                \n",
    "            if event.type== pygame.KEYDOWN and event.key == pygame.K_r:\n",
    "                # start from seed \n",
    "                state = ca.initGrid((RESX, RESY))\n",
    "            if event.type== pygame.KEYDOWN and event.key == pygame.K_k:\n",
    "                # start from seed \n",
    "                ca.rule.nearest_neighbours.data = ca.rule.generate_cppn_kernel()\n",
    "                \n",
    "\n",
    "        mouse_pos = pygame.mouse.get_pos()\n",
    "        if LMB_trigger:\n",
    "            state = LMB_make(state, r=r, s=s)\n",
    "        if RMB_trigger:\n",
    "            state = RMB_del(state, r=r, s=s)\n",
    "        \n",
    "        \n",
    "        if WHEEL_trigger:\n",
    "            ca.rule.beta = WHEEL_beta(ca.rule.beta, direction)\n",
    "            WHEEL_trigger = False\n",
    "            \n",
    "#         nx = state.cpu()[:, cdim_order].numpy()[0, 0, :, :].transpose(1, 2, 0)\n",
    "        if CHANNELS == 1:\n",
    "            spins = (state.cpu().numpy()[0, 0, :, :] + 1) /2 \n",
    "            temp = torch.log(1 / state[0, -1, :, :])\n",
    "            temp = ((temp - temp.min()) / (temp.max() - temp.min()) ).cpu().numpy()\n",
    "            nx = np.stack([0.7 * temp , 154/255 * spins, 211/255 * spins]).transpose(1, 2, 0)\n",
    "            \n",
    "#             nx = np.stack([temp, 154/255 * spins, 211/255 * spins]).transpose(1, 2, 0)\n",
    "#             nx = np.stack([temp, 0.7 * np.ones_like(spins), 1 - spins]).transpose(1, 2, 0)\n",
    "#             nx = cv2.cvtColor(nx, cv2.COLOR_RGB2HSV)\n",
    "            \n",
    "            nx *= 255\n",
    "        else:\n",
    "            nx = 255 * (state.cpu().numpy()[0, 0:3, :, :].transpose(1, 2, 0) + 1) / 2 \n",
    "\n",
    "        if time_ticking:\n",
    "            \n",
    "            if inject_webcam:\n",
    "                ret, web_frame = cap.read()\n",
    "                web_frame = cv2.resize(web_frame, None, fx=wbcam_fx, fy=wbcam_fy, interpolation=cv2.INTER_AREA)\n",
    "                web_frame = cv2.cvtColor(web_frame, cv2.COLOR_BGR2GRAY).transpose()\n",
    "                web_frame = update_rate * ((web_frame/255.)*2 - 1)\n",
    "                # H = np.sin(ticker / 150) * torch.cuda.FloatTensor(web_frame).unsqueeze(0).unsqueeze(0)\n",
    "                H = torch.cuda.FloatTensor(web_frame).unsqueeze(0).unsqueeze(0)\n",
    "                \n",
    "            else:\n",
    "                H = None\n",
    "                \n",
    "            state = ca.forward(state, h=H)\n",
    "            ticker += 1\n",
    "    \n",
    "            if sink:\n",
    "                xv, yv = torch.linspace(-1, 1, RESX), torch.linspace(-RESY/RESX, RESY/RESX, RESY)\n",
    "                X, Y = torch.meshgrid(xv, yv)\n",
    "                amp = 0.00\n",
    "                w = 30\n",
    "                R = torch.sqrt(X**2 + Y**2).cuda()\n",
    "                state[0, 0] = torch.where(R > 0.5, -torch.ones_like(state[0, 0]).cuda(), state[0, 0])\n",
    "\n",
    "            \n",
    "\n",
    "        if export_imgs and time_ticking:\n",
    "            imgs.append(nx)\n",
    "    \n",
    "        pygame.surfarray.blit_array(screen, nx)        \n",
    "        frame = pygame.transform.scale(screen, (RESXup, RESYup))\n",
    "        upscaled_screen.blit(frame, frame.get_rect())\n",
    "        upscaled_screen.blit(update_fps(clock, font), (10,0))\n",
    "        upscaled_screen.blit(print_beta(1 / (state[0, -1].mean().cpu().numpy())), (10,20))\n",
    "        pygame.display.flip()\n",
    "        clock.tick(240)\n",
    "        \n",
    "pygame.quit()\n"
   ]
  },
  {
   "cell_type": "code",
   "execution_count": 9,
   "id": "c84a6190",
   "metadata": {},
   "outputs": [
    {
     "data": {
      "text/plain": [
       "(3, 480, 480)"
      ]
     },
     "execution_count": 9,
     "metadata": {},
     "output_type": "execute_result"
    }
   ],
   "source": [
    "np.stack([temp, 0.7 * np.ones_like(spins), 1 - spins]).shape"
   ]
  },
  {
   "cell_type": "code",
   "execution_count": 17,
   "id": "3fa3a172",
   "metadata": {},
   "outputs": [
    {
     "data": {
      "image/png": "[encoded data removed]",
      "text/plain": [
       "<Figure size 640x480 with 1 Axes>"
      ]
     },
     "metadata": {},
     "output_type": "display_data"
    }
   ],
   "source": [
    "fig, ax = plt.subplots(1, 1)\n",
    "ax.hist(1 / state[0, -1, ...].cpu().numpy().reshape(-1), 200); #plt.yscale('log')\n",
    "T_mean = np.mean(1 / state[0, -1, ...].cpu().numpy())\n",
    "ax.plot([T_mean, T_mean], [0, ax.get_ylim()[1]*0.95], 'r--')\n",
    "ax.set_title(f'$T_m$ = {T_mean:.4f}');"
   ]
  },
  {
   "cell_type": "code",
   "execution_count": 18,
   "id": "tender-commission",
   "metadata": {},
   "outputs": [],
   "source": [
    "fname = time.strftime(\"%Y%m%d-%H%M%S\")\n",
    "out = cv2.VideoWriter(f'videos/CA-{fname}.mp4',cv2.VideoWriter_fourcc(*'XVID'), 60, (RESY, RESX), 3)\n",
    "# out = cv2.VideoWriter(f'videos/CA-{fname}.mp4',cv2.VideoWriter_fourcc(*'MP4V'), 60, (RESX, RESY), 3)\n",
    "\n",
    "\n",
    "for img in imgs:\n",
    "#     img = np.uint8(cv2.cvtColor(img, cv2.COLOR_RGB2BGR)*255.0)\n",
    "    o_img = np.uint8(cv2.cvtColor(img.transpose(1, 0, 2), cv2.COLOR_RGB2BGR))\n",
    "    out.write(o_img)\n",
    "out.release()"
   ]
  },
  {
   "cell_type": "code",
   "execution_count": 12,
   "id": "7e3cbebc",
   "metadata": {},
   "outputs": [],
   "source": [
    "# Set up video writer\n",
    "fname = time.strftime(\"%Y%m%d-%H%M%S\")\n",
    "output_file = f'videos/CA-{fname}.mp4'\n",
    "fourcc = cv2.VideoWriter_fourcc(*'XVID')\n",
    "fps = 60\n",
    "frame_size = (RESY, RESX)\n",
    "out = cv2.VideoWriter(output_file, fourcc, fps, frame_size)\n",
    "\n",
    "# Iterate through list of arrays and write each frame to the video writer\n",
    "for img in imgs:\n",
    "    out.write(img.astype('uint8').transpose(1, 0, 2))\n",
    "\n",
    "# Release the video writer\n",
    "out.release()"
   ]
  },
  {
   "cell_type": "code",
   "execution_count": 13,
   "id": "owned-floor",
   "metadata": {},
   "outputs": [
    {
     "data": {
      "text/plain": [
       "(array([121148.,      0.,      0.,      0.,      0.,      0., 145622.,\n",
       "         84778.,      0., 109252.]),\n",
       " array([-1. , -0.8, -0.6, -0.4, -0.2,  0. ,  0.2,  0.4,  0.6,  0.8,  1. ],\n",
       "       dtype=float32),\n",
       " <BarContainer object of 10 artists>)"
      ]
     },
     "execution_count": 13,
     "metadata": {},
     "output_type": "execute_result"
    },
    {
     "data": {
      "image/png": "[encoded data removed]",
      "text/plain": [
       "<Figure size 640x480 with 1 Axes>"
      ]
     },
     "metadata": {},
     "output_type": "display_data"
    }
   ],
   "source": [
    "plt.hist(state.reshape(-1).cpu().detach().numpy())"
   ]
  }
 ],
 "metadata": {
  "kernelspec": {
   "display_name": "Python 3 (ipykernel)",
   "language": "python",
   "name": "python3"
  },
  "language_info": {
   "codemirror_mode": {
    "name": "ipython",
    "version": 3
   },
   "file_extension": ".py",
   "mimetype": "text/x-python",
   "name": "python",
   "nbconvert_exporter": "python",
   "pygments_lexer": "ipython3",
   "version": "3.9.15"
  }
 },
 "nbformat": 4,
 "nbformat_minor": 5
}

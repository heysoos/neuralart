{
 "cells": [
  {
   "cell_type": "code",
   "execution_count": 1,
   "id": "suspended-latter",
   "metadata": {
    "tags": []
   },
   "outputs": [
    {
     "name": "stdout",
     "output_type": "stream",
     "text": [
      "pygame 2.0.1 (SDL 2.0.14, Python 3.9.9)\n",
      "Hello from the pygame community. https://www.pygame.org/contribute.html\n"
     ]
    }
   ],
   "source": [
    "import numpy as np\n",
    "import matplotlib.pyplot as plt\n",
    "\n",
    "import torch\n",
    "import torch.nn as nn\n",
    "import torch.nn.functional as F\n",
    "from torchvision import models\n",
    "# from torch.utils.tensorboard import SummaryWriter\n",
    "\n",
    "from PIL import Image\n",
    "from skimage.color import rgba2rgb, hsv2rgb\n",
    "import cv2\n",
    "from IPython.display import display, clear_output\n",
    "from math import *\n",
    "import time\n",
    "\n",
    "from os import makedirs, path\n",
    "from copy import deepcopy\n",
    "\n",
    "from tqdm import tqdm\n",
    "\n",
    "from physicsCA import physicsCA, make_kernel, min_max\n",
    "import pygame"
   ]
  },
  {
   "cell_type": "code",
   "execution_count": 2,
   "id": "specialized-casting",
   "metadata": {},
   "outputs": [],
   "source": [
    "A = 0.01  # Acceleration constant A = [m / s^2]\n",
    "mass_const = 1e+3  # Mass\n",
    "dt = 1. # mass propagation param\n",
    "temp = 5e-2 # momentum propagation param\n",
    "fdelta = 0.1 # f_t-t and f_t exponential averaging param\n",
    "\n",
    "mass_density = 1e5 # amount of mass per pixel on init"
   ]
  },
  {
   "cell_type": "code",
   "execution_count": 3,
   "id": "right-ribbon",
   "metadata": {},
   "outputs": [],
   "source": [
    "def LMB_make(state, r=5, s=1):\n",
    "    '''\n",
    "    left click to make\n",
    "    r: radius of brush\n",
    "    s: smoothing / sigma\n",
    "    '''\n",
    "    xcl, ycl = pygame.mouse.get_pos()\n",
    "    xcl, ycl = int(xcl/UPSCALE), int(ycl/UPSCALE)\n",
    "    \n",
    "    # radial blur\n",
    "    xm, ym = torch.meshgrid(torch.linspace(-1, 1, 2*r), torch.linspace(-1, 1, 2*r))\n",
    "    rm = torch.sqrt(xm**2 + ym**2).type(torch.double)\n",
    "    blur = torch.exp(-rm**2 / s**2)\n",
    "    blur = torch.where(rm <= 1., blur, 0.) # circular mask\n",
    "    \n",
    "    xslice = range(xcl - r, xcl + r)\n",
    "    yslice = range(ycl - r, ycl + r)\n",
    "    for count_i, i in enumerate(xslice):\n",
    "        for count_j, j in enumerate(yslice):\n",
    "            i = i % RESX\n",
    "            j = j % RESY\n",
    "            state[:, :, i, j] += mass_density / 3.\n",
    "    return state\n",
    "    \n",
    "    \n",
    "def RMB_del(state, r=5, s=1):\n",
    "    '''\n",
    "    right click to erase\n",
    "    r: radius of eraser\n",
    "    s: smoothing / sigma\n",
    "    '''\n",
    "    xcl, ycl = pygame.mouse.get_pos()\n",
    "    xcl, ycl = int(xcl/UPSCALE), int(ycl/UPSCALE)\n",
    "    \n",
    "    # radial blur\n",
    "    xm, ym = torch.meshgrid(torch.linspace(-1, 1, 2*r), torch.linspace(-1, 1, 2*r))\n",
    "    rm = torch.sqrt(xm**2 + ym**2).type(torch.double)\n",
    "    blur = (1 - torch.exp(-rm**2 / s**2))\n",
    "    blur = torch.where(rm <= 1., blur, 1.) # circular mask\n",
    "    \n",
    "    xslice = range(xcl - r, xcl + r)\n",
    "    yslice = range(ycl - r, ycl + r)\n",
    "    for count_i, i in enumerate(xslice):\n",
    "        for count_j, j in enumerate(yslice):\n",
    "            i = i % RESX\n",
    "            j = j % RESY\n",
    "            state[:, :, i, j] = 0.\n",
    "    return state\n",
    "\n",
    "def WHEEL_permute(cdim_order, direction):\n",
    "    cdim_order = np.mod(np.add(cdim_order, direction), CHANNELS)\n",
    "    \n",
    "    return cdim_order\n",
    "    \n",
    "def WHEEL_param(param, direction, increment):\n",
    "    \n",
    "    return param + direction * increment"
   ]
  },
  {
   "cell_type": "markdown",
   "id": "virtual-manor",
   "metadata": {
    "tags": []
   },
   "source": [
    "# Test"
   ]
  },
  {
   "cell_type": "code",
   "execution_count": 4,
   "id": "irish-tunisia",
   "metadata": {
    "pycharm": {
     "name": "#%%\n"
    },
    "tags": []
   },
   "outputs": [],
   "source": [
    "CHANNELS=5\n",
    "RADIUS=10 # set to 1 if not using CPPN\n",
    "ca = physicsCA(CHANNELS=CHANNELS, RADIUS=RADIUS).cuda() "
   ]
  },
  {
   "cell_type": "code",
   "execution_count": 5,
   "id": "greatest-initial",
   "metadata": {},
   "outputs": [
    {
     "data": {
      "image/png": "[encoded data removed]",
      "text/plain": [
       "<Figure size 576x216 with 10 Axes>"
      ]
     },
     "metadata": {
      "needs_background": "light"
     },
     "output_type": "display_data"
    }
   ],
   "source": [
    "ca.rule.generate_cppn()\n",
    "kernels = torch.cat([k for k in ca.rule.kernel], dim=0).cpu().detach().numpy()\n",
    "\n",
    "num_plot_kernels = kernels.shape[0]\n",
    "fig, axes = plt.subplots(1, num_plot_kernels, figsize=(8, 3))\n",
    "\n",
    "if num_plot_kernels > 1:\n",
    "    for j in range(num_plot_kernels):\n",
    "        kplot = kernels[j, :, :]\n",
    "        kmax = np.max(np.abs(kplot))\n",
    "        axes[j].imshow(kplot, vmin=-kmax, vmax=kmax)\n",
    "        axes[j].axis('off')\n",
    "else:\n",
    "    kplot = kernels[0, :, :]\n",
    "    kmax = np.max(np.abs(kplot))\n",
    "    axes.imshow(kplot, vmin=-kmax, vmax=kmax)\n",
    "    axes.axis('off')\n"
   ]
  },
  {
   "cell_type": "code",
   "execution_count": 6,
   "id": "adult-truck",
   "metadata": {},
   "outputs": [
    {
     "data": {
      "text/plain": [
       "<matplotlib.colorbar.Colorbar at 0x7f6e347acb50>"
      ]
     },
     "execution_count": 6,
     "metadata": {},
     "output_type": "execute_result"
    },
    {
     "data": {
      "image/png": "[encoded data removed]",
      "text/plain": [
       "<Figure size 432x288 with 2 Axes>"
      ]
     },
     "metadata": {
      "needs_background": "light"
     },
     "output_type": "display_data"
    }
   ],
   "source": [
    "plt.imshow(ca.rule.kernel[0, 0].cpu().numpy()); plt.colorbar()"
   ]
  },
  {
   "cell_type": "code",
   "execution_count": 7,
   "id": "minimal-output",
   "metadata": {},
   "outputs": [
    {
     "data": {
      "image/png": "[encoded data removed]",
      "text/plain": [
       "<Figure size 432x288 with 1 Axes>"
      ]
     },
     "metadata": {
      "needs_background": "light"
     },
     "output_type": "display_data"
    }
   ],
   "source": [
    "plt.hist(kernels[0].reshape(-1), 25); plt.yscale('log')"
   ]
  },
  {
   "cell_type": "code",
   "execution_count": 8,
   "id": "hybrid-pricing",
   "metadata": {},
   "outputs": [],
   "source": [
    "# brush properties\n",
    "r = 20\n",
    "s = 1"
   ]
  },
  {
   "cell_type": "code",
   "execution_count": 9,
   "id": "under-quest",
   "metadata": {
    "pycharm": {
     "name": "#%%\n"
    },
    "tags": []
   },
   "outputs": [
    {
     "name": "stderr",
     "output_type": "stream",
     "text": [
      "\n",
      "KeyboardInterrupt\n",
      "\n"
     ]
    }
   ],
   "source": [
    "# resolution of grid\n",
    "RESX=640\n",
    "RESY=480\n",
    "\n",
    "# pygame stuff\n",
    "######################################\n",
    "pygame.init()\n",
    "size = RESX, RESY\n",
    "# screen = pygame.display.set_mode(size)\n",
    "screen = pygame.Surface(size)\n",
    "UPSCALE = 1\n",
    "RESXup, RESYup = int(RESX*UPSCALE), int(RESY*UPSCALE)\n",
    "upscaled_screen = pygame.display.set_mode([RESXup, RESYup])\n",
    "\n",
    "running = True\n",
    "time_ticking = True\n",
    "self_organize = False\n",
    "LMB_trigger = False\n",
    "RMB_trigger = False\n",
    "WHEEL_trigger = False\n",
    "HSV_toggle = False\n",
    "\n",
    "clock = pygame.time.Clock()\n",
    "font = pygame.font.SysFont(\"Noto Sans\", 12)\n",
    "def update_fps(clock, font):\n",
    "    fps = str(int(clock.get_fps()))\n",
    "    fps_text = font.render(fps, 1, pygame.Color(\"white\"))\n",
    "    fps_bg = pygame.Surface((fps_text.get_height(),fps_text.get_width()))  # the size of your rect\n",
    "    fps_bg.set_alpha(50)                # alpha level\n",
    "    fps_bg.fill((255,255,255))           # this fills the entire surface\n",
    "\n",
    "    fps_surf = pygame.Surface((fps_bg.get_height(), fps_bg.get_width()))\n",
    "    fps_surf.blit(fps_bg, (0, 0))\n",
    "    fps_surf.blit(fps_text, (0, 0))\n",
    "    return fps_surf\n",
    "\n",
    "def show_wheel_info(param, name):\n",
    "    font = pygame.font.SysFont(\"Noto Sans\", 12)\n",
    "    info_str = f'{name}: {param:.4f}'\n",
    "    info_txt = font.render(info_str, 1, pygame.Color(\"white\"))\n",
    "    info_bg = pygame.Surface((info_txt.get_height(),info_txt.get_width()))  # the size of your rect\n",
    "    info_bg.set_alpha(50)                # alpha level\n",
    "    info_bg.fill((255,255,255))           # this fills the entire surface\n",
    "\n",
    "    info_surf = pygame.Surface((info_bg.get_height(), info_bg.get_width()))\n",
    "    pos = (0., 0.)\n",
    "    info_surf.blit(info_bg, pos)\n",
    "    info_surf.blit(info_txt, pos)\n",
    "    return info_surf\n",
    "######################################\n",
    "\n",
    "sparsity = 0.05\n",
    "device = 'cuda'\n",
    "\n",
    "def init_state():\n",
    "    #mass = (torch.rand(1, 1, RESX, RESY, requires_grad=False, device=device) > sparsity) * mass_density + 1e-6     # mass = [kg]\n",
    "    mass = torch.zeros(1, 1, RESX, RESY, requires_grad=False, device=device)    # mass = [kg]\n",
    "    mass[..., RESX//3:2*RESX//3, RESY//3:2*RESY//3] = mass_density\n",
    "    #mass[..., RESX//2, RESY//2] = mass_density\n",
    "    force = torch.zeros(2, 1, RESX, RESY, requires_grad=False, device=device)    # force = [kg * m / s^2]\n",
    "    momentum = torch.zeros(2, 1, RESX, RESY, requires_grad=False, device=device) # momentum = [kg * m / s]\n",
    "    # A = torch.rand_like(mass).cuda()\n",
    "    A = torch.ones_like(mass).cuda()\n",
    "    \n",
    "    return mass, force, momentum, A\n",
    "\n",
    "mass, force, momentum, A = init_state()\n",
    "\n",
    "A_factor = 1.\n",
    "A_sign = 1\n",
    "\n",
    "update_rate = 1.\n",
    "ticker = 0.\n",
    "sink = False\n",
    "export_imgs = False\n",
    "imgs = []\n",
    "\n",
    "with torch.no_grad():\n",
    "    while running:              \n",
    "        for event in pygame.event.get():\n",
    "            if event.type == pygame.QUIT:\n",
    "                running = False\n",
    "                \n",
    "            if event.type == pygame.MOUSEBUTTONDOWN:\n",
    "                if event.button == 1:\n",
    "                    LMB_trigger = True\n",
    "                if event.button == 3:\n",
    "                    RMB_trigger = True\n",
    "            if event.type == pygame.MOUSEBUTTONUP:\n",
    "                if event.button == 1:\n",
    "                    LMB_trigger = False\n",
    "                if event.button == 3:\n",
    "                    RMB_trigger = False\n",
    "                    \n",
    "            if event.type == pygame.MOUSEWHEEL:\n",
    "                WHEEL_trigger = True\n",
    "                direction = event.y\n",
    "                \n",
    "                \n",
    "            if event.type == pygame.KEYDOWN and event.key == pygame.K_LEFTBRACKET:\n",
    "                ca.rule.kpow += -0.05\n",
    "                ca.rule.kernel = make_kernel(pow=ca.rule.kpow)\n",
    "            if event.type == pygame.KEYDOWN and event.key == pygame.K_RIGHTBRACKET:\n",
    "                ca.rule.kpow += 0.05\n",
    "                ca.rule.kernel = make_kernel(pow=ca.rule.kpow)\n",
    "            \n",
    "            if event.type == pygame.KEYDOWN and event.key == pygame.K_k:\n",
    "                ca.rule.generate_cppn_kernel()\n",
    "            if event.type == pygame.KEYDOWN and event.key == pygame.K_c:\n",
    "                ca.rule.generate_cppn()\n",
    "            if event.type == pygame.KEYDOWN and event.key == pygame.K_h:\n",
    "                HSV_toggle = not HSV_toggle\n",
    "\n",
    "            if event.type == pygame.KEYDOWN and event.key == pygame.K_e:\n",
    "                export_imgs = not export_imgs\n",
    "            if event.type == pygame.KEYDOWN and event.key == pygame.K_p:\n",
    "                # pause/toggle time\n",
    "                time_ticking = not time_ticking\n",
    "                \n",
    "            if event.type== pygame.KEYDOWN and event.key == pygame.K_r:\n",
    "                # reinit\n",
    "                mass, force, momentum, A = init_state()\n",
    "                \n",
    "                \n",
    "\n",
    "        mouse_pos = pygame.mouse.get_pos()\n",
    "        if LMB_trigger:\n",
    "            mass = LMB_make(mass, r=r, s=s)\n",
    "        if RMB_trigger:\n",
    "            mass = RMB_del(mass, r=r, s=s)\n",
    "        if WHEEL_trigger:\n",
    "            A_factor = A_sign * 10**WHEEL_param(np.log10(np.abs(A_factor)), A_sign * direction, 1./3.)\n",
    "            \n",
    "            if A_factor < 1e-4 and direction == -1:\n",
    "                A_sign = -1\n",
    "            if A_factor > -1e-4 and direction == 1:\n",
    "                A_sign = 1\n",
    "\n",
    "            WHEEL_trigger = False\n",
    "        \n",
    "        #nx = mass.cpu()[0, 0, :, :].numpy() \n",
    "        nx = [mass[0, 0, :, :], momentum.norm(p=2, dim=0, keepdim=True)[0, 0], force.norm(p=2, dim=0, keepdim=True)[0, 0]]\n",
    "        nx = torch.stack([min_max(c.log1p()) for c in nx], dim=-1).cpu().numpy() \n",
    "        #nx = min_max(torch.stack([min_max(c.log1p()) for c in nx], dim=-1).cpu().numpy())\n",
    "        if HSV_toggle:\n",
    "            \n",
    "            nx = cv2.cvtColor(nx[..., [1, 0, 2]] , cv2.COLOR_HSV2RGB_FULL)\n",
    "#         nx = hsv2rgb(nx[..., [1, 2, 0]])\n",
    "        \n",
    "        # nx = torch.stack([mass.cpu()[0, 0, :, :], momentum.cpu().norm(p=2, dim=0, keepdim=True)[0, 0], force.cpu().norm(p=2, dim=0, keepdim=True)[0, 0]], dim=-1).numpy()\n",
    "        nx = nx * 255.\n",
    "\n",
    "        if time_ticking:\n",
    "            mass, momentum, force = ca.forward(mass, momentum, force, A * A_factor, dt, temp, fdelta)\n",
    "            ticker += 1\n",
    "\n",
    "\n",
    "        if export_imgs and time_ticking:\n",
    "            imgs.append(nx)\n",
    "\n",
    "\n",
    "        pygame.surfarray.blit_array(screen, nx)        \n",
    "        frame = pygame.transform.scale(screen, (RESXup, RESYup))\n",
    "        upscaled_screen.blit(frame, frame.get_rect())\n",
    "        upscaled_screen.blit(update_fps(clock, font), (10,0))\n",
    "        upscaled_screen.blit(show_wheel_info(fdelta, 'fdelta'), (RESXup - 100,0))\n",
    "        upscaled_screen.blit(show_wheel_info(A_factor, 'A'), (RESXup - 100,15))\n",
    "            \n",
    "        pygame.display.flip()\n",
    "        clock.tick(240)\n",
    "        \n",
    "pygame.quit()\n"
   ]
  },
  {
   "cell_type": "code",
   "execution_count": 11,
   "id": "d0cd13f3-c995-4bdf-baa9-2535f99e4019",
   "metadata": {},
   "outputs": [
    {
     "data": {
      "text/plain": [
       "(640, 480, 3)"
      ]
     },
     "execution_count": 11,
     "metadata": {},
     "output_type": "execute_result"
    }
   ],
   "source": [
    "nx.shape"
   ]
  },
  {
   "cell_type": "code",
   "execution_count": null,
   "id": "toxic-honolulu",
   "metadata": {},
   "outputs": [],
   "source": [
    "from physicsCA import conv_pad\n",
    "\n",
    "self = ca.rule\n",
    "new_force_momentum = conv_pad(A * momentum.permute(1, 0, 2, 3), self.kernel, padding=self.radius, groups=2).permute(1, 0, 2, 3)\n",
    "new_force_momentum = torch.cat(\n",
    "            [new_force_momentum[:self.channels].sum(dim=0, keepdim=True),\n",
    "             new_force_momentum[self.channels:].sum(dim=0, keepdim=True)]\n",
    "        )\n",
    "new_force_momentum.shape"
   ]
  },
  {
   "cell_type": "code",
   "execution_count": null,
   "id": "stupid-cleveland",
   "metadata": {},
   "outputs": [],
   "source": [
    "nx = [mass[0, 0, :, :], momentum.norm(p=2, dim=0, keepdim=True)[0, 0], force.norm(p=2, dim=0, keepdim=True)[0, 0]]\n",
    "nx = torch.stack([min_max(c.log1p()) for c in nx], dim=-1).cpu().numpy()\n",
    "nx = cv2.cvtColor(nx, cv2.COLOR_HLS2RGB_FULL)\n",
    "plt.imshow(nx[...].transpose(1, 0, 2))"
   ]
  },
  {
   "cell_type": "code",
   "execution_count": null,
   "id": "earned-tiffany",
   "metadata": {},
   "outputs": [],
   "source": [
    "plot_xs = [momentum.norm(p=2, dim=0, keepdim=True)[0, 0],\n",
    "           mass[0, 0, :, :],\n",
    "           force.norm(p=2, dim=0, keepdim=True)[0, 0]]\n",
    "\n",
    "for plot_x in plot_xs:\n",
    "    plot_x = plot_x.log1p()\n",
    "    plot_x = min_max(plot_x)\n",
    "\n",
    "    plt.hist(plot_x.cpu().numpy().reshape(-1), alpha=0.75);\n",
    "    plt.yscale('log')"
   ]
  },
  {
   "cell_type": "code",
   "execution_count": null,
   "id": "african-shade",
   "metadata": {},
   "outputs": [],
   "source": [
    "plt.imshow(plot_xs[2].log1p().cpu().numpy().transpose())\n",
    "plt.colorbar()"
   ]
  },
  {
   "cell_type": "code",
   "execution_count": null,
   "id": "modular-camcorder",
   "metadata": {},
   "outputs": [],
   "source": [
    "fname = time.strftime(\"%Y%m%d-%H%M%S\")\n",
    "# out = cv2.VideoWriter(f'videos/CA-{fname}.avi',cv2.VideoWriter_fourcc(*'DIVX'), 60, (RESX, RESY), 3)\n",
    "out = cv2.VideoWriter(f'videos/CA-{fname}.mp4',cv2.VideoWriter_fourcc(*'MP4V'), 120, (RESX, RESY), 3)\n",
    "\n",
    "\n",
    "for img in imgs:\n",
    "#     img = np.uint8(cv2.cvtColor(img, cv2.COLOR_RGB2BGR)*255.0)\n",
    "    img = np.uint8(cv2.cvtColor(img, cv2.COLOR_RGB2BGR)).transpose(1, 0, 2)\n",
    "    out.write(img)\n",
    "out.release()"
   ]
  },
  {
   "cell_type": "code",
   "execution_count": null,
   "id": "actual-insertion",
   "metadata": {},
   "outputs": [],
   "source": [
    "fig, axes = plt.subplots(1, 3, figsize=(16, 4))\n",
    "axes[0].hist(mass.reshape(-1).cpu().detach().numpy());\n",
    "axes[0].set_title('mass')\n",
    "axes[0].set_yscale('log')\n",
    "\n",
    "axes[1].hist(momentum[0].reshape(-1).cpu().detach().numpy(), alpha=0.5, label='X');\n",
    "axes[1].hist(momentum[1].reshape(-1).cpu().detach().numpy(), alpha=0.5, label='Y');\n",
    "axes[1].set_yscale('log')\n",
    "axes[1].legend()\n",
    "\n",
    "axes[1].set_title('momentum')\n",
    "\n",
    "axes[2].hist(force[0].reshape(-1).cpu().detach().numpy(), alpha=0.5, label='X');\n",
    "axes[2].hist(force[1].reshape(-1).cpu().detach().numpy(), alpha=0.5, label='Y');\n",
    "axes[2].set_yscale('log')\n",
    "axes[2].legend()\n",
    "axes[2].set_title('force')"
   ]
  },
  {
   "cell_type": "code",
   "execution_count": null,
   "id": "adjustable-inquiry",
   "metadata": {},
   "outputs": [],
   "source": []
  }
 ],
 "metadata": {
  "kernelspec": {
   "display_name": "Python 3 (ipykernel)",
   "language": "python",
   "name": "python3"
  },
  "language_info": {
   "codemirror_mode": {
    "name": "ipython",
    "version": 3
   },
   "file_extension": ".py",
   "mimetype": "text/x-python",
   "name": "python",
   "nbconvert_exporter": "python",
   "pygments_lexer": "ipython3",
   "version": "3.9.9"
  }
 },
 "nbformat": 4,
 "nbformat_minor": 5
}
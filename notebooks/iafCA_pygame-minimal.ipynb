{
 "cells": [
  {
   "cell_type": "code",
   "execution_count": 1,
   "id": "lasting-offense",
   "metadata": {},
   "outputs": [
    {
     "name": "stdout",
     "output_type": "stream",
     "text": [
      "pygame 2.0.1 (SDL 2.0.14, Python 3.9.9)\n",
      "Hello from the pygame community. https://www.pygame.org/contribute.html\n"
     ]
    }
   ],
   "source": [
    "import numpy as np\n",
    "import matplotlib.pyplot as plt\n",
    "\n",
    "import torch\n",
    "import torch.nn as nn\n",
    "import torch.nn.functional as F\n",
    "from torchvision import models\n",
    "# from torch.utils.tensorboard import SummaryWriter\n",
    "\n",
    "from PIL import Image\n",
    "from skimage.color import rgba2rgb\n",
    "import cv2\n",
    "from IPython.display import display, clear_output\n",
    "from math import *\n",
    "import time\n",
    "\n",
    "from os import makedirs, path\n",
    "from copy import deepcopy\n",
    "\n",
    "from tqdm import tqdm\n",
    "\n",
    "from iafCA import iafCA\n",
    "import pygame\n",
    "from physicsCA import min_max"
   ]
  },
  {
   "cell_type": "code",
   "execution_count": 2,
   "id": "leading-triangle",
   "metadata": {},
   "outputs": [],
   "source": [
    "def LMB_make(state, r=5, s=1):\n",
    "    '''\n",
    "    left click to make\n",
    "    r: radius of brush\n",
    "    s: smoothing / sigma\n",
    "    '''\n",
    "    xcl, ycl = pygame.mouse.get_pos()\n",
    "    xcl, ycl = int(xcl/UPSCALE), int(ycl/UPSCALE)\n",
    "    \n",
    "    # radial blur\n",
    "    xm, ym = torch.meshgrid(torch.linspace(-1, 1, 2*r), torch.linspace(-1, 1, 2*r))\n",
    "    rm = torch.sqrt(xm**2 + ym**2).type(torch.double)\n",
    "    blur = torch.exp(-rm**2 / s**2)\n",
    "    blur = torch.where(rm <= 1., blur, 0.) # circular mask\n",
    "    \n",
    "    xslice = range(xcl - r, xcl + r)\n",
    "    yslice = range(ycl - r, ycl + r)\n",
    "    for count_i, i in enumerate(xslice):\n",
    "        for count_j, j in enumerate(yslice):\n",
    "            i = i % RESX\n",
    "            j = j % RESY\n",
    "            state[:, 1, i, j] = state[:, 1, i, j] + 5.\n",
    "    return state\n",
    "    \n",
    "    \n",
    "def RMB_del(state, r=5, s=1):\n",
    "    '''\n",
    "    right click to erase\n",
    "    r: radius of eraser\n",
    "    s: smoothing / sigma\n",
    "    '''\n",
    "    xcl, ycl = pygame.mouse.get_pos()\n",
    "    xcl, ycl = int(xcl/UPSCALE), int(ycl/UPSCALE)\n",
    "    \n",
    "    # radial blur\n",
    "    xm, ym = torch.meshgrid(torch.linspace(-1, 1, 2*r), torch.linspace(-1, 1, 2*r))\n",
    "    rm = torch.sqrt(xm**2 + ym**2).type(torch.double)\n",
    "    blur = (1 - torch.exp(-rm**2 / s**2))\n",
    "    blur = torch.where(rm <= 1., blur, 1.) # circular mask\n",
    "    \n",
    "    xslice = range(xcl - r, xcl + r)\n",
    "    yslice = range(ycl - r, ycl + r)\n",
    "    for count_i, i in enumerate(xslice):\n",
    "        for count_j, j in enumerate(yslice):\n",
    "            i = i % RESX\n",
    "            j = j % RESY\n",
    "            state[:, 1, i, j] = state[:, 1, i, j] - 0.2\n",
    "    return state\n",
    "\n",
    "def WHEEL_permute(cdim_order, direction):\n",
    "    cdim_order = np.mod(np.add(cdim_order, direction), 7)\n",
    "    \n",
    "    return cdim_order"
   ]
  },
  {
   "cell_type": "markdown",
   "id": "surface-contributor",
   "metadata": {
    "tags": []
   },
   "source": [
    "# Init CA"
   ]
  },
  {
   "cell_type": "code",
   "execution_count": 3,
   "id": "fitted-branch",
   "metadata": {
    "pycharm": {
     "name": "#%%\n"
    },
    "tags": []
   },
   "outputs": [],
   "source": [
    "RADIUS=20\n",
    "ca = iafCA(RADIUS=RADIUS).cuda() "
   ]
  },
  {
   "cell_type": "code",
   "execution_count": 4,
   "id": "unusual-browse",
   "metadata": {},
   "outputs": [
    {
     "data": {
      "text/plain": [
       "(-0.5, 40.5, 40.5, -0.5)"
      ]
     },
     "execution_count": 4,
     "metadata": {},
     "output_type": "execute_result"
    },
    {
     "data": {
      "image/png": "[encoded data removed]",
      "text/plain": [
       "<Figure size 432x288 with 2 Axes>"
      ]
     },
     "metadata": {
      "needs_background": "light"
     },
     "output_type": "display_data"
    }
   ],
   "source": [
    "plt.imshow(ca.rule.nearest_neighbours.data[0, 0].cpu().numpy())\n",
    "plt.colorbar()\n",
    "plt.title('kernel')\n",
    "plt.axis('off')"
   ]
  },
  {
   "cell_type": "code",
   "execution_count": 5,
   "id": "joint-tuner",
   "metadata": {},
   "outputs": [],
   "source": [
    "# brush properties\n",
    "r = 20\n",
    "s = 1"
   ]
  },
  {
   "cell_type": "markdown",
   "id": "urban-shaft",
   "metadata": {
    "tags": []
   },
   "source": [
    "### Init Webcam"
   ]
  },
  {
   "cell_type": "markdown",
   "id": "17b3b177-009f-4815-8c0d-c9673b0bd3af",
   "metadata": {},
   "source": [
    "This notebook uses your webcam to inject video into the voltages of the spiking network. If you don't have a working webcam, this will throw an error. You can avoid the error by commenting this cell and uncommenting the dummy array cell below."
   ]
  },
  {
   "cell_type": "code",
   "execution_count": 6,
   "id": "local-oriental",
   "metadata": {},
   "outputs": [],
   "source": [
    "cap = cv2.VideoCapture(0)\n",
    "\n",
    "# Check if the webcam is opened correctly\n",
    "if not cap.isOpened():\n",
    "    raise IOError(\"Cannot open webcam\")\n",
    "    \n",
    "ret, frame = cap.read()\n",
    "frame = cv2.resize(frame, None, fx=1, fy=1, interpolation=cv2.INTER_AREA)\n",
    "frame = cv2.cvtColor(frame, cv2.COLOR_BGR2GRAY)"
   ]
  },
  {
   "cell_type": "code",
   "execution_count": 7,
   "id": "a9cbb83b-a5c6-4329-ae17-b5761929b492",
   "metadata": {},
   "outputs": [],
   "source": [
    "#### dummy array if no webcam ####\n",
    "# frame = np.zeros((10, 10))"
   ]
  },
  {
   "cell_type": "markdown",
   "id": "447286b6-6e1b-4bc1-ba24-f66a9c54a63a",
   "metadata": {},
   "source": [
    "The cell below initializes a pygame window to run the CA. This window is interactive.\n",
    "\n",
    "\n",
    "left/right click: to add or remove voltage.\n",
    "\n",
    "scroll wheel: rotate through the different channels in the simulation. The order is [Spikes, Voltages, Refractory Time, Traces, Threshold, Energy, Excitatory/Inhibitory labels].\n",
    "\n",
    "scroll click: resets the view to the spike channel\n",
    "\n",
    "\"[\" or \"]\": decrease/increase the intensity of the injected webcam image.\n",
    "\n",
    "down/up arrows: decrease/increase kernel strength\n",
    "\n",
    "r: reset CA state\n",
    "\n",
    "k: reinitialize the kernel\n",
    "\n",
    "p: pause the simulation\n",
    "\n",
    "e: toggle saving/unsaving frames. To use, press \"e\" once to start saving images, and press \"e\" again to stop. When you close the pygame window, the very last cell in this notebook generates a video using these saved frames.\n",
    "\n",
    "w: toggle injecting webcame\n",
    "\n",
    "s: toggle sink (doesn't really work at the moment but can easily be changed. See \"if sink:\" condition in the cell below.\n",
    "\n"
   ]
  },
  {
   "cell_type": "code",
   "execution_count": 8,
   "id": "regulation-challenge",
   "metadata": {
    "pycharm": {
     "name": "#%%\n"
    },
    "tags": []
   },
   "outputs": [],
   "source": [
    "# resolution of grid\n",
    "RESX= 640\n",
    "RESY= 480\n",
    "\n",
    "state = ca.initGrid((RESX, RESY))\n",
    "og_kernel = ca.rule.nearest_neighbours\n",
    "kernel_scale = 1.\n",
    "kernel_increment = .2\n",
    "update_rate = 1.\n",
    "\n",
    "# pygame stuff\n",
    "######################################\n",
    "pygame.init()\n",
    "size = RESX, RESY\n",
    "screen = pygame.Surface(size)\n",
    "UPSCALE = 2\n",
    "RESXup, RESYup = int(RESX*UPSCALE), int(RESY*UPSCALE)\n",
    "upscaled_screen = pygame.display.set_mode([RESXup, RESYup])\n",
    "######################################\n",
    "\n",
    "# webcam stuff\n",
    "######################################\n",
    "inject_webcam = False\n",
    "wbcam_fy = RESY / frame.shape[0]\n",
    "wbcam_fx = wbcam_fy\n",
    "img_norm = 1/255. \n",
    "######################################\n",
    "\n",
    "# more pygame/initialization stuff\n",
    "######################################\n",
    "running = True\n",
    "time_ticking = True\n",
    "self_organize = False\n",
    "LMB_trigger = False\n",
    "RMB_trigger = False\n",
    "WHEEL_trigger = False\n",
    "cdim_order = np.arange(0, 6)\n",
    "\n",
    "clock = pygame.time.Clock()\n",
    "font = pygame.font.SysFont(\"Noto Sans\", 12)\n",
    "def update_fps(clock, font):\n",
    "    fps = str(int(clock.get_fps()))\n",
    "    fps_text = font.render(fps, 1, pygame.Color(\"white\"))\n",
    "    fps_bg = pygame.Surface((fps_text.get_height(),fps_text.get_width()))  # the size of your rect\n",
    "    fps_bg.set_alpha(50)                # alpha level\n",
    "    fps_bg.fill((255,255,255))           # this fills the entire surface\n",
    "\n",
    "    fps_surf = pygame.Surface((fps_bg.get_height(), fps_bg.get_width()))\n",
    "    fps_surf.blit(fps_bg, (0, 0))\n",
    "    fps_surf.blit(fps_text, (0, 0))\n",
    "    return fps_surf\n",
    "######################################\n",
    "\n",
    "ticker = 0.\n",
    "sink = False\n",
    "export_imgs = False\n",
    "imgs = []\n",
    "\n",
    "with torch.no_grad():\n",
    "    while running:              \n",
    "        for event in pygame.event.get():\n",
    "            if event.type == pygame.QUIT:\n",
    "                running = False\n",
    "                \n",
    "            if event.type == pygame.MOUSEBUTTONDOWN:\n",
    "                if event.button == 1:\n",
    "                    LMB_trigger = True\n",
    "                if event.button == 3:\n",
    "                    RMB_trigger = True\n",
    "            if event.type == pygame.MOUSEBUTTONUP:\n",
    "                if event.button == 1:\n",
    "                    LMB_trigger = False\n",
    "                if event.button == 3:\n",
    "                    RMB_trigger = False\n",
    "                    \n",
    "            if event.type == pygame.MOUSEWHEEL:\n",
    "                WHEEL_trigger = True\n",
    "                direction = -event.y\n",
    "                \n",
    "            if event.type == pygame.KEYDOWN and event.key == pygame.K_LEFTBRACKET:\n",
    "                update_rate += -0.5\n",
    "            if event.type == pygame.KEYDOWN and event.key == pygame.K_RIGHTBRACKET:\n",
    "                update_rate += 0.5\n",
    "            \n",
    "            if event.type == pygame.MOUSEBUTTONUP and event.button == 2:\n",
    "                # scroll through channel dims\n",
    "                cdim_order = np.arange(0, state.shape[1])\n",
    "                    \n",
    "\n",
    "            if event.type == pygame.KEYDOWN and event.key == pygame.K_k:\n",
    "                ca.rule.nearest_neighbours = ca.rule.generate_cppn_kernel() \n",
    "                og_kernel = ca.rule.nearest_neighbours\n",
    "            if event.type == pygame.KEYDOWN and event.key == pygame.K_UP:\n",
    "                kernel_scale += kernel_increment\n",
    "                ca.rule.nearest_neighbours = og_kernel * kernel_scale\n",
    "            if event.type == pygame.KEYDOWN and event.key == pygame.K_DOWN:\n",
    "                kernel_scale -= kernel_increment\n",
    "                ca.rule.nearest_neighbours = og_kernel * kernel_scale\n",
    "            if event.type == pygame.KEYDOWN and event.key == pygame.K_w:\n",
    "                inject_webcam = not inject_webcam\n",
    "                \n",
    "            if event.type == pygame.KEYDOWN and event.key == pygame.K_s:\n",
    "                sink = not sink\n",
    "            if event.type == pygame.KEYDOWN and event.key == pygame.K_e:\n",
    "                export_imgs = not export_imgs\n",
    "            if event.type == pygame.KEYDOWN and event.key == pygame.K_p:\n",
    "                # pause/toggle time\n",
    "                time_ticking = not time_ticking\n",
    "                \n",
    "            if event.type == pygame.KEYDOWN and event.key == pygame.K_r:\n",
    "                # start from seed \n",
    "                state = ca.initGrid((RESX, RESY))\n",
    "                \n",
    "                    \n",
    "                \n",
    "\n",
    "        mouse_pos = pygame.mouse.get_pos()\n",
    "        if LMB_trigger:\n",
    "            state = LMB_make(state, r=r, s=s)\n",
    "        if RMB_trigger:\n",
    "            state = RMB_del(state, r=r, s=s)\n",
    "            \n",
    "        if WHEEL_trigger:\n",
    "            cdim_order = WHEEL_permute(cdim_order, direction)\n",
    "            WHEEL_trigger = False\n",
    "        \n",
    "        # nx is the array that will be visualized by pygame.\n",
    "        \n",
    "        # nx = state.cpu()[:, cdim_order].numpy()[0, 0, :, :].transpose(1, 2, 0)\n",
    "        # nx = state.cpu().numpy()[0, cdim_order[0], :, :]\n",
    "        # nx = state.cpu().numpy()[0, [0, 1, 5], :, :].transpose(1, 2, 0)\n",
    "        # nx = state.cpu()[0, cdim_order].numpy().transpose(1, 2, 0)\n",
    "        nx = state[0, cdim_order[0], :, :].cpu().numpy()\n",
    "        # nx = state[0, [0, 1, -2], :, :]\n",
    "        # nx = np.stack([min_max(np.log10(1 + c)) for c in nx], axis=-1) * 255.\n",
    "        nx = nx * 255.\n",
    "        \n",
    "        ### FORWARD PASS ###\n",
    "        if time_ticking:\n",
    "            state = ca.forward(state)\n",
    "            ticker += 1\n",
    "            \n",
    "            if inject_webcam:\n",
    "                ret, frame = cap.read()\n",
    "                frame = cv2.resize(frame, None, fx=wbcam_fx, fy=wbcam_fy, interpolation=cv2.INTER_AREA)\n",
    "                frame = cv2.cvtColor(frame, cv2.COLOR_BGR2GRAY).transpose()\n",
    "                frame = torch.cuda.FloatTensor(frame) * img_norm * update_rate\n",
    "                state[0, 1, 0:frame.shape[0], 0:frame.shape[1]] = state[0, 1, 0:frame.shape[0], 0:frame.shape[1]] + frame\n",
    "                # state[0, 4, 0:frame.shape[0], 0:frame.shape[1]] = state[0, 4, 0:frame.shape[0], 0:frame.shape[1]] - 0.5 * frame\n",
    "                \n",
    "    \n",
    "            if sink:\n",
    "                xv, yv = torch.linspace(-1, 1, RESX), torch.linspace(-RESY/RESX, RESY/RESX, RESY)\n",
    "                X, Y = torch.meshgrid(xv, yv)\n",
    "                amp = 0.00\n",
    "                w = 30\n",
    "                R = torch.sqrt(X**2 + Y**2).cuda()\n",
    "                state[0, 1] = torch.where(R > 0.5, state[0, 1] - 2 * torch.ones_like(state[0, 1]).cuda(), state[0, 1])\n",
    "\n",
    "            if export_imgs:\n",
    "                imgs.append(nx)\n",
    "                # imgs.append(state[0, [0, 1, 4, 5], ...].cpu().numpy())\n",
    "        ####################\n",
    "\n",
    "        pygame.surfarray.blit_array(screen, nx)        \n",
    "        py_frame = pygame.transform.scale(screen, (RESXup, RESYup))\n",
    "        upscaled_screen.blit(py_frame, py_frame.get_rect())\n",
    "        upscaled_screen.blit(update_fps(clock, font), (10,0))\n",
    "        pygame.display.flip()\n",
    "        clock.tick(60)\n",
    "        \n",
    "pygame.quit()\n"
   ]
  },
  {
   "cell_type": "markdown",
   "id": "e7b2721e-ca4b-4173-a8d3-62dc5649b5f6",
   "metadata": {},
   "source": [
    "Plot some statistics from the last frame (generally use this for sanity checks)."
   ]
  },
  {
   "cell_type": "code",
   "execution_count": 9,
   "id": "received-dietary",
   "metadata": {},
   "outputs": [
    {
     "data": {
      "text/plain": [
       "Text(0.5, 1.0, 'Energy')"
      ]
     },
     "execution_count": 9,
     "metadata": {},
     "output_type": "execute_result"
    },
    {
     "data": {
      "image/png": "[encoded data removed]",
      "text/plain": [
       "<Figure size 1296x432 with 6 Axes>"
      ]
     },
     "metadata": {
      "needs_background": "light"
     },
     "output_type": "display_data"
    }
   ],
   "source": [
    "fig, axes = plt.subplots(2, 3, figsize=(18, 6))\n",
    "axes = axes.flatten()\n",
    "\n",
    "axes[0].hist(state[0, 1].cpu().numpy().reshape(-1), 100);\n",
    "axes[0].set_title('Voltages')\n",
    "axes[1].hist(state[0, 0].cpu().numpy().reshape(-1), 100);\n",
    "axes[1].set_title('Spikes')\n",
    "axes[2].hist(state[0, 2].cpu().numpy().reshape(-1), 100);\n",
    "axes[2].set_title('Refractory time')\n",
    "\n",
    "axes[3].hist(state[0, 3].cpu().numpy().reshape(-1), 100)\n",
    "axes[3].set_title('Trace rate')\n",
    "axes[4].hist(state[0, 4].cpu().numpy().reshape(-1), 100)\n",
    "axes[4].set_title('Threshold')\n",
    "axes[5].hist(state[0, 5].cpu().numpy().reshape(-1), 100)\n",
    "axes[5].set_title('Energy')"
   ]
  },
  {
   "cell_type": "code",
   "execution_count": 10,
   "id": "ongoing-productivity",
   "metadata": {},
   "outputs": [
    {
     "name": "stderr",
     "output_type": "stream",
     "text": [
      "OpenCV: FFMPEG: tag 0x5634504d/'MP4V' is not supported with codec id 12 and format 'mp4 / MP4 (MPEG-4 Part 14)'\n",
      "OpenCV: FFMPEG: fallback to use tag 0x7634706d/'mp4v'\n"
     ]
    }
   ],
   "source": [
    "fname = time.strftime(\"%Y%m%d-%H%M%S\")\n",
    "# out = cv2.VideoWriter(f'videos/CA-{fname}.avi',cv2.VideoWriter_fourcc(*'DIVX'), 60, (RESX, RESY), 3)\n",
    "out = cv2.VideoWriter(f'videos/CA-{fname}.mp4',cv2.VideoWriter_fourcc(*'MP4V'), 60, (RESX, RESY), 1)\n",
    "\n",
    "\n",
    "for img in imgs:\n",
    "#     img = np.uint8(cv2.cvtColor(img, cv2.COLOR_RGB2BGR)*255.0)\n",
    "    img = np.uint8(cv2.cvtColor(img, cv2.COLOR_RGB2BGR)).transpose(1, 0, 2)\n",
    "    out.write(img)\n",
    "out.release()"
   ]
  }
 ],
 "metadata": {
  "kernelspec": {
   "display_name": "Python 3 (ipykernel)",
   "language": "python",
   "name": "python3"
  },
  "language_info": {
   "codemirror_mode": {
    "name": "ipython",
    "version": 3
   },
   "file_extension": ".py",
   "mimetype": "text/x-python",
   "name": "python",
   "nbconvert_exporter": "python",
   "pygments_lexer": "ipython3",
   "version": "3.9.9"
  }
 },
 "nbformat": 4,
 "nbformat_minor": 5
}
